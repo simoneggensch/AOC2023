{
 "cells": [
  {
   "cell_type": "markdown",
   "metadata": {},
   "source": [
    "## Advent of code 2023"
   ]
  },
  {
   "cell_type": "code",
   "execution_count": null,
   "metadata": {},
   "outputs": [],
   "source": [
    "#pip install aocd"
   ]
  },
  {
   "cell_type": "code",
   "execution_count": 1,
   "metadata": {},
   "outputs": [],
   "source": [
    "### imports\n",
    "\n",
    "from aocd import submit\n",
    "from aocd.models import Puzzle\n",
    "import os\n",
    "import numpy as np\n",
    "import re\n",
    "import math\n",
    "from collections import Counter, defaultdict\n",
    "os.environ[\"AOC_SESSION\"]=\"53616c7465645f5f758c99d24081ffad2fcf5cbd91464a34dbbff6365ee265c49647f5fc31927f60daa37ac129107458fc661b911273336aa557a7e32e41dd75\""
   ]
  },
  {
   "cell_type": "markdown",
   "metadata": {},
   "source": [
    "### Day 25"
   ]
  },
  {
   "cell_type": "code",
   "execution_count": null,
   "metadata": {},
   "outputs": [],
   "source": [
    "#puzzle=Puzzle(year=2021,day=25)\n",
    "#print(puzzle.easter_eggs)\n"
   ]
  },
  {
   "cell_type": "markdown",
   "metadata": {},
   "source": [
    "#### Part a"
   ]
  },
  {
   "cell_type": "code",
   "execution_count": null,
   "metadata": {},
   "outputs": [],
   "source": []
  },
  {
   "cell_type": "code",
   "execution_count": null,
   "metadata": {},
   "outputs": [],
   "source": [
    "#puzzle.answer_a = ans_a"
   ]
  },
  {
   "cell_type": "markdown",
   "metadata": {},
   "source": [
    "#### Part b"
   ]
  },
  {
   "cell_type": "code",
   "execution_count": null,
   "metadata": {},
   "outputs": [],
   "source": []
  },
  {
   "cell_type": "code",
   "execution_count": null,
   "metadata": {},
   "outputs": [],
   "source": [
    "#puzzle.answer_b = ans_b"
   ]
  },
  {
   "cell_type": "markdown",
   "metadata": {},
   "source": [
    "### Day 24"
   ]
  },
  {
   "cell_type": "code",
   "execution_count": null,
   "metadata": {},
   "outputs": [],
   "source": [
    "#puzzle=Puzzle(year=2021,day=24)\n",
    "#print(puzzle.easter_eggs)\n"
   ]
  },
  {
   "cell_type": "markdown",
   "metadata": {},
   "source": [
    "#### Part a"
   ]
  },
  {
   "cell_type": "code",
   "execution_count": null,
   "metadata": {},
   "outputs": [],
   "source": []
  },
  {
   "cell_type": "code",
   "execution_count": null,
   "metadata": {},
   "outputs": [],
   "source": [
    "#puzzle.answer_a = ans_a"
   ]
  },
  {
   "cell_type": "markdown",
   "metadata": {},
   "source": [
    "#### Part b"
   ]
  },
  {
   "cell_type": "code",
   "execution_count": null,
   "metadata": {},
   "outputs": [],
   "source": []
  },
  {
   "cell_type": "code",
   "execution_count": null,
   "metadata": {},
   "outputs": [],
   "source": [
    "#puzzle.answer_b = ans_b"
   ]
  },
  {
   "cell_type": "markdown",
   "metadata": {},
   "source": [
    "### Day 23"
   ]
  },
  {
   "cell_type": "code",
   "execution_count": null,
   "metadata": {},
   "outputs": [],
   "source": [
    "#puzzle=Puzzle(year=2021,day=23)\n",
    "#print(puzzle.easter_eggs)\n"
   ]
  },
  {
   "cell_type": "markdown",
   "metadata": {},
   "source": [
    "#### Part a"
   ]
  },
  {
   "cell_type": "code",
   "execution_count": null,
   "metadata": {},
   "outputs": [],
   "source": []
  },
  {
   "cell_type": "code",
   "execution_count": null,
   "metadata": {},
   "outputs": [],
   "source": [
    "#puzzle.answer_a = ans_a"
   ]
  },
  {
   "cell_type": "markdown",
   "metadata": {},
   "source": [
    "#### Part b"
   ]
  },
  {
   "cell_type": "code",
   "execution_count": null,
   "metadata": {},
   "outputs": [],
   "source": []
  },
  {
   "cell_type": "code",
   "execution_count": null,
   "metadata": {},
   "outputs": [],
   "source": [
    "#puzzle.answer_b = ans_b"
   ]
  },
  {
   "cell_type": "markdown",
   "metadata": {},
   "source": [
    "### Day 22"
   ]
  },
  {
   "cell_type": "code",
   "execution_count": null,
   "metadata": {},
   "outputs": [],
   "source": [
    "#puzzle=Puzzle(year=2021,day=22)\n",
    "#print(puzzle.easter_eggs)\n"
   ]
  },
  {
   "cell_type": "markdown",
   "metadata": {},
   "source": [
    "#### Part a"
   ]
  },
  {
   "cell_type": "code",
   "execution_count": null,
   "metadata": {},
   "outputs": [],
   "source": []
  },
  {
   "cell_type": "code",
   "execution_count": null,
   "metadata": {},
   "outputs": [],
   "source": [
    "#puzzle.answer_a = ans_a"
   ]
  },
  {
   "cell_type": "markdown",
   "metadata": {},
   "source": [
    "#### Part b"
   ]
  },
  {
   "cell_type": "code",
   "execution_count": null,
   "metadata": {},
   "outputs": [],
   "source": []
  },
  {
   "cell_type": "code",
   "execution_count": null,
   "metadata": {},
   "outputs": [],
   "source": [
    "#puzzle.answer_b = ans_b"
   ]
  },
  {
   "cell_type": "markdown",
   "metadata": {},
   "source": [
    "### Day 21"
   ]
  },
  {
   "cell_type": "code",
   "execution_count": null,
   "metadata": {},
   "outputs": [],
   "source": [
    "#puzzle=Puzzle(year=2021,day=21)\n",
    "#print(puzzle.easter_eggs)\n"
   ]
  },
  {
   "cell_type": "markdown",
   "metadata": {},
   "source": [
    "#### Part a"
   ]
  },
  {
   "cell_type": "code",
   "execution_count": null,
   "metadata": {},
   "outputs": [],
   "source": []
  },
  {
   "cell_type": "code",
   "execution_count": null,
   "metadata": {},
   "outputs": [],
   "source": [
    "#puzzle.answer_a = ans_a"
   ]
  },
  {
   "cell_type": "markdown",
   "metadata": {},
   "source": [
    "#### Part b"
   ]
  },
  {
   "cell_type": "code",
   "execution_count": null,
   "metadata": {},
   "outputs": [],
   "source": []
  },
  {
   "cell_type": "code",
   "execution_count": null,
   "metadata": {},
   "outputs": [],
   "source": [
    "#puzzle.answer_b = ans_b"
   ]
  },
  {
   "cell_type": "markdown",
   "metadata": {},
   "source": [
    "### Day 20"
   ]
  },
  {
   "cell_type": "code",
   "execution_count": 4,
   "metadata": {},
   "outputs": [],
   "source": [
    "puzzle=Puzzle(year=2021,day=20)\n",
    "#print(puzzle.easter_eggs)\n"
   ]
  },
  {
   "cell_type": "markdown",
   "metadata": {},
   "source": [
    "#### Part a"
   ]
  },
  {
   "cell_type": "code",
   "execution_count": 49,
   "metadata": {},
   "outputs": [
    {
     "name": "stdout",
     "output_type": "stream",
     "text": [
      "5395 17584\n"
     ]
    }
   ],
   "source": [
    "from itertools import product\n",
    "enhancement,image=puzzle.input_data.split(\"\\n\\n\")\n",
    "#enhancement,image=open(\"example_day20.txt\").read().split(\"\\n\\n\")\n",
    "\n",
    "parsing_dict={\"#\":1,\".\":0}\n",
    "\n",
    "image=np.array([[parsing_dict[char] for char in line] for line in image.split(\"\\n\")])\n",
    "\n",
    "enhancement=\"\".join([str(parsing_dict[char]) for char in enhancement])\n",
    "\n",
    "def update_image(image:np.array,enhancement_logo,value_to_pad)->np.array:\n",
    "    image=np.pad(image,pad_width=2,constant_values=value_to_pad)\n",
    "    new_image=np.full(image.shape,value_to_pad)\n",
    "    for idx in range(1,image.shape[0]-1):\n",
    "        for idy in range(1,image.shape[1]-1):\n",
    "            index_new_value=\"\".join([str(image[idx+deltax,idy+deltay]) for deltax,deltay in product([-1,0,1],repeat=2)])\n",
    "            test=[[deltax,deltay] for deltax,deltay in product([-1,0,1],repeat=2)]\n",
    "            new_image[idx,idy]=enhancement_logo[int(index_new_value,2)]\n",
    "    return new_image[1:image.shape[0]-1,1:image.shape[1]-1]\n",
    "            \n",
    "            \n",
    "n_iterations=50\n",
    "next_value_to_pad=0\n",
    "for n_iter in range(n_iterations):\n",
    "    image=update_image(image,enhancement,next_value_to_pad)\n",
    "    next_value_to_pad=int(enhancement[next_value_to_pad*(len(enhancement)-1)])\n",
    "    if n_iterations==2:\n",
    "        ans_a=len(np.nonzero(image)[0])\n",
    "ans_b=len(np.nonzero(image)[0])\n",
    "print(ans_a,ans_b)\n",
    "\n"
   ]
  },
  {
   "cell_type": "code",
   "execution_count": 39,
   "metadata": {},
   "outputs": [
    {
     "name": "stdout",
     "output_type": "stream",
     "text": [
      "\u001b[32mThat's the right answer!  You are one gold star closer to finding the sleigh keys. [Continue to Part Two]\u001b[0m\n"
     ]
    }
   ],
   "source": [
    "puzzle.answer_a = ans_a"
   ]
  },
  {
   "cell_type": "markdown",
   "metadata": {},
   "source": [
    "#### Part b"
   ]
  },
  {
   "cell_type": "code",
   "execution_count": null,
   "metadata": {},
   "outputs": [],
   "source": []
  },
  {
   "cell_type": "code",
   "execution_count": 47,
   "metadata": {},
   "outputs": [
    {
     "name": "stdout",
     "output_type": "stream",
     "text": [
      "\u001b[32mThat's the right answer!  You are one gold star closer to finding the sleigh keys.You have completed Day 20! You can [Shareon\n",
      "  Twitter\n",
      "Mastodon] this victory or [Return to Your Advent Calendar].\u001b[0m\n"
     ]
    }
   ],
   "source": [
    "puzzle.answer_b = ans_b"
   ]
  },
  {
   "cell_type": "markdown",
   "metadata": {},
   "source": [
    "### Day 19"
   ]
  },
  {
   "cell_type": "code",
   "execution_count": 51,
   "metadata": {},
   "outputs": [],
   "source": [
    "puzzle=Puzzle(year=2021,day=19)\n",
    "#print(puzzle.easter_eggs)\n"
   ]
  },
  {
   "cell_type": "markdown",
   "metadata": {},
   "source": [
    "#### Part a"
   ]
  },
  {
   "cell_type": "code",
   "execution_count": 85,
   "metadata": {},
   "outputs": [
    {
     "name": "stdout",
     "output_type": "stream",
     "text": [
      "5\n",
      "[-1. -3. -2.]\n",
      "False\n",
      "[array([ 1., -1.,  1.]), array([ 2., -2.,  2.]), array([ 3., -3.,  3.]), array([ 2., -1.,  3.]), array([-5.,  4., -6.]), array([-8.00000000e+00, -7.00000000e+00,  2.53402967e-15])]\n",
      "valid check\n",
      " [array([ 1, -1,  1]), array([ 2, -2,  2]), array([ 3, -3,  3]), array([ 2, -1,  3]), array([-5,  4, -6]), array([-8, -7,  0])] \n",
      " [array([-1., -1.,  1.]), array([-2., -2.,  2.]), array([-3., -3.,  3.]), array([-2., -3.,  1.]), array([ 5.,  6., -4.]), array([ 8.00000000e+00, -9.79717439e-16,  7.00000000e+00])]\n"
     ]
    }
   ],
   "source": [
    "from scipy.spatial.transform import Rotation\n",
    "\n",
    "class Scanner:\n",
    "    \n",
    "    def __init__(self,list_of_reads):\n",
    "        self.beacons=[]\n",
    "        for coords in list_of_reads:\n",
    "            self.beacons.append(np.array(list(map(int,coords.split(\",\")))))\n",
    "\n",
    "def distance_matrix(scanner:Scanner)->tp.Tuple[tp.Tuple[int]]:\n",
    "    dist_matrix=[[[] for _ in range(len(scanner.beacons))] for _ in range(len(scanner.beacons))]\n",
    "    for id_vec1,vec1 in enumerate(scanner.beacons):\n",
    "        for id_vec2,vec2 in enumerate(scanner.beacons):\n",
    "            dist_matrix[id_vec1][id_vec2]=scanner.beacons[id_vec1]-scanner.beacons[id_vec2]\n",
    "    return dist_matrix\n",
    "\n",
    "def intersection(lst1,lst2):\n",
    "    return [val1 for val1 in lst1 if any(np.array_equal(val1,val2) for val2 in lst2)]\n",
    "\n",
    "def check_alignment(scanner1:Scanner,scanner2:Scanner,threshold=12)->bool:\n",
    "    dist_matrix1=distance_matrix(scanner1)\n",
    "    dist_matrix2=distance_matrix(scanner2)\n",
    "    for dists_vec1 in dist_matrix1[:-threshold+1]:\n",
    "        for dists_vec2 in dist_matrix2[:-threshold+1]:\n",
    "            if len(intersection(dists_vec1,dists_vec2))>=threshold:\n",
    "                return True\n",
    "    return False\n",
    "\n",
    "\n",
    "def rotate_scanner(scanner:Scanner,rot:Rotation)->Scanner:\n",
    "    scanner.beacons=[rot.apply(vec) for vec in scanner.beacons]\n",
    "    return scanner\n",
    "\n",
    "\n",
    "\n",
    "scanners=[]\n",
    "\n",
    "reads=open(\"input_day19.txt\").read().split(\"\\n\\n\")\n",
    "reads=open(\"example_day19.txt\").read().split(\"\\n\\n\")\n",
    "reads=open(\"example_day19_easy.txt\").read().split(\"\\n\\n\")\n",
    "\n",
    "for read in reads:\n",
    "    scanners.append(Scanner(read.split(\"\\n\")[1:]))\n",
    "\n",
    "all_rotations=[]\n",
    "\n",
    "for i in range(4):\n",
    "    all_rotations.append(Rotation.from_euler(\"x\",90*i,degrees=True))\n",
    "    all_rotations.append(Rotation.from_euler(\"zy\",[90,90*i],degrees=True))\n",
    "    all_rotations.append(Rotation.from_euler(\"zx\",[180,90*i],degrees=True))\n",
    "    all_rotations.append(Rotation.from_euler(\"zy\",[270,90*i],degrees=True))\n",
    "    all_rotations.append(Rotation.from_euler(\"yz\",[90,90*i],degrees=True))\n",
    "    all_rotations.append(Rotation.from_euler(\"yz\",[270,90*i],degrees=True))\n",
    "\n",
    "\n",
    "\n",
    "test_vector=np.array([1,2,3])\n",
    "\n",
    "print(len(scanners))\n",
    "\n",
    "test_rotation=Rotation.from_euler(\"yz\",[-90,270],degrees=True)\n",
    "\n",
    "print(all_rotations[8].apply(test_vector))\n",
    "\n",
    "print(check_alignment(scanners[1],rotate_scanner(scanners[0],all_rotations[8])))\n",
    "print(scanners[0].beacons)\n",
    "print(\"valid check\\n\",scanners[1].beacons,\"\\n\",rotate_scanner(scanners[0],all_rotations[8]).beacons)"
   ]
  },
  {
   "cell_type": "code",
   "execution_count": null,
   "metadata": {},
   "outputs": [],
   "source": [
    "#puzzle.answer_a = ans_a"
   ]
  },
  {
   "cell_type": "markdown",
   "metadata": {},
   "source": [
    "#### Part b"
   ]
  },
  {
   "cell_type": "code",
   "execution_count": null,
   "metadata": {},
   "outputs": [],
   "source": []
  },
  {
   "cell_type": "code",
   "execution_count": null,
   "metadata": {},
   "outputs": [],
   "source": [
    "#puzzle.answer_b = ans_b"
   ]
  },
  {
   "cell_type": "markdown",
   "metadata": {},
   "source": [
    "### Day 18"
   ]
  },
  {
   "cell_type": "code",
   "execution_count": 161,
   "metadata": {},
   "outputs": [],
   "source": [
    "puzzle=Puzzle(year=2021,day=18)\n",
    "#print(puzzle.easter_eggs)\n"
   ]
  },
  {
   "cell_type": "markdown",
   "metadata": {},
   "source": [
    "#### Part a"
   ]
  },
  {
   "cell_type": "code",
   "execution_count": 162,
   "metadata": {},
   "outputs": [
    {
     "name": "stdout",
     "output_type": "stream",
     "text": [
      "3756\n"
     ]
    }
   ],
   "source": [
    "def closing_to_explode(line:str)->int:\n",
    "    n_opening_parenthesis=0\n",
    "    position=0\n",
    "    while n_opening_parenthesis<5 and position<len(line):\n",
    "        new_char=line[position]\n",
    "        if new_char==\"[\":\n",
    "            n_opening_parenthesis+=1\n",
    "        elif new_char==\"]\":\n",
    "            n_opening_parenthesis-=1\n",
    "        position+=1\n",
    "    if n_opening_parenthesis==5:\n",
    "        return line.find(\"]\",position)\n",
    "    else:\n",
    "        return 0\n",
    "\n",
    "\n",
    "def explode_to_max(line:str)->str:\n",
    "    closing_parenthesis_explosion=closing_to_explode(line)\n",
    "\n",
    "    while closing_parenthesis_explosion!=0:\n",
    "        opening_parenthesis_explosion=line.rfind(\"[\",0,closing_parenthesis_explosion)\n",
    "        line=explosion(line,opening_parenthesis_explosion,closing_parenthesis_explosion)\n",
    "        closing_parenthesis_explosion=closing_to_explode(line)\n",
    "    return line\n",
    "\n",
    "def explosion(line:str,start_index:int,end_index:int)->str:\n",
    "    #print(\"new explosion\")\n",
    "    numbers_below=re.findall(r'\\d+', line[:start_index])\n",
    "    numbers_above=re.findall(r'\\d+', line[end_index:])\n",
    "    number_left,number_right=line[start_index+1:end_index].split(\",\")\n",
    "    line_left=line[:start_index]\n",
    "    line_right=line[end_index+1:]\n",
    "    if numbers_below:\n",
    "        new_number=eval(f\"{numbers_below[-1]}+{number_left}\")\n",
    "        line_left=line_left.rsplit(numbers_below[-1],1)\n",
    "        line_left=str(new_number).join(line_left)\n",
    "    if numbers_above:\n",
    "        new_number=eval(f\"{numbers_above[0]}+{number_right}\")\n",
    "        line_right=line_right.split(numbers_above[0],1)\n",
    "        line_right=str(new_number).join(line_right)\n",
    "    return line_left+\"0\"+line_right\n",
    "\n",
    "def addition(line1:str,line2:str)->str:\n",
    "    return f\"[{line1},{line2}]\"\n",
    "\n",
    "def split(line:str)->str:\n",
    "    #print(\"split\")\n",
    "    numbers_to_split=re.findall(r\"\\d\\d+\",line)\n",
    "    if numbers_to_split:\n",
    "        number_to_split=numbers_to_split[0]\n",
    "        return line.replace(number_to_split,f\"[{math.floor(int(number_to_split)/2)},{math.ceil(int(number_to_split)/2)}]\",1)\n",
    "    else:\n",
    "        return line\n",
    "\n",
    "def reduce_number(line:str)->str:\n",
    "    #print(\"reduce\")\n",
    "    old_line=\"\"\n",
    "    while old_line!=line:\n",
    "        old_line=line\n",
    "        line=explode_to_max(line)\n",
    "        line=split(line)\n",
    "    return line\n",
    "    \n",
    "    \n",
    "def magnitude(line):\n",
    "    n_parenthesis=0\n",
    "    for id_char,char in enumerate(line):\n",
    "        if char==\"[\":\n",
    "            n_parenthesis+=1\n",
    "        elif char==\"]\":\n",
    "            n_parenthesis-=1\n",
    "        elif char==\",\" and n_parenthesis==1:\n",
    "            index_comma=id_char\n",
    "    left_line,right_line=line[1:index_comma],line[index_comma+1:-1]\n",
    "    new_mag=0\n",
    "    if len(left_line)==1:\n",
    "        new_mag+=3*int(left_line)\n",
    "    else:\n",
    "        new_mag+=3*magnitude(left_line)\n",
    "    if len(right_line)==1:\n",
    "        new_mag+=2*int(right_line)\n",
    "    else:\n",
    "        new_mag+=2*magnitude(right_line)\n",
    "    return new_mag\n",
    "    \n",
    "        \n",
    "\n",
    "\n",
    "\n",
    "#all_numbers=open(\"example_day18.txt\").read().split(\"\\n\")\n",
    "all_numbers=puzzle.input_data.split(\"\\n\")\n",
    "current_number=all_numbers[0]\n",
    "for new_line in all_numbers[1:]:\n",
    "    current_number=addition(current_number,new_line)\n",
    "    current_number=reduce_number(current_number)\n",
    "    #print(current_number)\n",
    "ans_a=magnitude(current_number)\n",
    "print(ans_a)\n",
    "\n"
   ]
  },
  {
   "cell_type": "code",
   "execution_count": 163,
   "metadata": {},
   "outputs": [],
   "source": [
    "puzzle.answer_a = ans_a"
   ]
  },
  {
   "cell_type": "markdown",
   "metadata": {},
   "source": [
    "#### Part b"
   ]
  },
  {
   "cell_type": "code",
   "execution_count": 164,
   "metadata": {},
   "outputs": [
    {
     "name": "stdout",
     "output_type": "stream",
     "text": [
      "4585\n"
     ]
    }
   ],
   "source": [
    "largest_mag=0\n",
    "all_numbers=puzzle.input_data.split(\"\\n\")\n",
    "#all_numbers=open(\"example_day18.txt\").read().split(\"\\n\")\n",
    "for id_linea,line_a in enumerate(all_numbers):\n",
    "    for line_b in all_numbers[:id_linea]+all_numbers[id_linea+1:]:\n",
    "        current_number=addition(line_a,line_b)\n",
    "        current_number=reduce_number(current_number)\n",
    "        new_mag=magnitude(current_number)\n",
    "        if new_mag>largest_mag:\n",
    "            largest_mag=new_mag\n",
    "ans_b=largest_mag\n",
    "print(ans_b)\n"
   ]
  },
  {
   "cell_type": "code",
   "execution_count": 165,
   "metadata": {},
   "outputs": [],
   "source": [
    "puzzle.answer_b = ans_b"
   ]
  },
  {
   "cell_type": "markdown",
   "metadata": {},
   "source": [
    "### Day 17"
   ]
  },
  {
   "cell_type": "code",
   "execution_count": 166,
   "metadata": {},
   "outputs": [],
   "source": [
    "puzzle=Puzzle(year=2021,day=17)\n",
    "#print(puzzle.easter_eggs)\n"
   ]
  },
  {
   "cell_type": "markdown",
   "metadata": {},
   "source": [
    "#### Part a"
   ]
  },
  {
   "cell_type": "code",
   "execution_count": 167,
   "metadata": {},
   "outputs": [
    {
     "name": "stdout",
     "output_type": "stream",
     "text": [
      "[-118, -62] 118\n",
      "6903\n"
     ]
    }
   ],
   "source": [
    "x_target,y_target=[list(map(int,val[2:].split(\"..\"))) for val in puzzle.input_data.strip(\"target area: \").split(\", \")]\n",
    "#x_target,y_target=[list(map(int,val[2:].split(\"..\"))) for val in \"target area: x=20..30, y=-10..-5\".strip(\"target area: \").split(\", \")]\n",
    "\n",
    "\n",
    "max_y_abs_val=max(list(map(abs,y_target)))\n",
    "ans_a=max_y_abs_val*(max_y_abs_val-1)//2\n",
    "print(ans_a)\n"
   ]
  },
  {
   "cell_type": "code",
   "execution_count": 168,
   "metadata": {},
   "outputs": [],
   "source": [
    "puzzle.answer_a = ans_a"
   ]
  },
  {
   "cell_type": "markdown",
   "metadata": {},
   "source": [
    "#### Part b"
   ]
  },
  {
   "cell_type": "code",
   "execution_count": 169,
   "metadata": {},
   "outputs": [],
   "source": [
    "min_x=int((1+math.sqrt(1+8*min(x_target)))/2)\n",
    "potential_x_start={}\n",
    "\n",
    "def find_possible_solutions(start_min,start_max,target)->dict:\n",
    "    potential_start={}\n",
    "    for x_velocity_start in range(start_min,start_max+1):\n",
    "        n_steps=0\n",
    "        position=0\n",
    "        velocity=x_velocity_start\n",
    "        n_sol=0\n",
    "        while position<=max(target) and n_steps<1000:\n",
    "            position+=velocity\n",
    "            velocity-=1\n",
    "            if velocity<=0:\n",
    "                velocity=0\n",
    "            n_steps+=1\n",
    "            if position>=min(target) and position<=max(target):\n",
    "                if not x_velocity_start in potential_start:\n",
    "                    potential_start[x_velocity_start]=[n_steps]\n",
    "                else:\n",
    "                    potential_start[x_velocity_start]+=[n_steps]\n",
    "    return potential_start\n",
    "\n",
    "potential_x_start=find_possible_solutions(0,max(x_target),x_target)\n",
    "\n",
    "n_start=set()\n",
    "\n",
    "for elem in potential_x_start:\n",
    "    for n_step in potential_x_start[elem]:\n",
    "        for y in range(min(y_target),4000):\n",
    "            if min(y_target) <= n_step*y-(n_step-1)*n_step/2 <= max(y_target):\n",
    "                n_start.add(f\"{elem},{y}\")\n",
    "        \n",
    "ans_b=len(n_start)"
   ]
  },
  {
   "cell_type": "code",
   "execution_count": 170,
   "metadata": {},
   "outputs": [],
   "source": [
    "puzzle.answer_b = ans_b"
   ]
  },
  {
   "cell_type": "markdown",
   "metadata": {},
   "source": [
    "### Day 16"
   ]
  },
  {
   "cell_type": "code",
   "execution_count": 171,
   "metadata": {},
   "outputs": [],
   "source": [
    "puzzle=Puzzle(year=2021,day=16)\n",
    "#print(puzzle.easter_eggs)\n"
   ]
  },
  {
   "cell_type": "markdown",
   "metadata": {},
   "source": [
    "#### Part a"
   ]
  },
  {
   "cell_type": "code",
   "execution_count": 53,
   "metadata": {},
   "outputs": [
    {
     "name": "stdout",
     "output_type": "stream",
     "text": [
      "730 µs ± 37.8 µs per loop (mean ± std. dev. of 7 runs, 1000 loops each)\n"
     ]
    }
   ],
   "source": [
    "code=\"8A004A801A8002F478\"\n",
    "code=\"620080001611562C8802118E34\"\n",
    "code=\"D2FE28\"\n",
    "code=\"38006F45291200\"\n",
    "code=\"EE00D40C823060\"\n",
    "code=\"C200B40A82\"\n",
    "code=\"880086C3E88112\"\n",
    "code=\"CE00C43D881120\"\n",
    "code=\"D8005AC2A8F0\"\n",
    "code=\"F600BC2D8F\"\n",
    "code=\"9C005AC2F8F0\"\n",
    "code=\"9C0141080250320F1802104A08\"\n",
    "code=puzzle.input_data\n",
    "\n",
    "\n",
    "bin_code=format(int(code,16),f\"0{len(code)*4}b\")\n",
    "\n",
    "def parse_sequence(code:str)->tp.Tuple[int,int,str]:\n",
    "    version,type_ID,code=get_ver_id(code)\n",
    "    #print(f\"new package version {version} and type {type_ID}\")\n",
    "    values=[]\n",
    "    if type_ID==4:\n",
    "        new_value,code=parse_id_four(code)\n",
    "        \n",
    "        #print(f\"id4 decoded,value {new_value}\")\n",
    "        values.append(new_value)\n",
    "        \n",
    "    else:\n",
    "        if int(code[0]):\n",
    "            n_packs=0\n",
    "            n_packs_to_get=int(code[1:12],2) \n",
    "            code=code[12:]\n",
    "            \n",
    "            #print(f\"{n_packs_to_get} packs to find\")\n",
    "            while n_packs<n_packs_to_get:\n",
    "                new_version,new_value,code=parse_sequence(code)\n",
    "                version+=new_version\n",
    "                values.append(new_value)\n",
    "                n_packs+=1\n",
    "                \n",
    "        else:\n",
    "            code_length=int(code[1:16],2)\n",
    "            code=code[16:]\n",
    "            sub_code=code[:code_length]\n",
    "            total_decoded=0\n",
    "            \n",
    "            #print(f\"code of length {code_length} to find\")\n",
    "            while sub_code!=\"\":\n",
    "                new_version,new_value,sub_code=parse_sequence(sub_code)\n",
    "                version+=new_version\n",
    "                values.append(new_value)\n",
    "                \n",
    "            code=code[code_length:]\n",
    "            \n",
    "    value=evaluate_package(type_ID,values)\n",
    "    return version,value,code\n",
    "\n",
    "\n",
    "def get_ver_id(sequence:str)->tp.Tuple[int,int,str]:\n",
    "    return int(sequence[:3],2),int(sequence[3:6],2),sequence[6:]\n",
    "\n",
    "def parse_id_four(code:str)->tp.Tuple[int,str]:\n",
    "    last_pack=False\n",
    "    n_packs=0\n",
    "    code_value=\"\"\n",
    "    while not last_pack:\n",
    "        if not int(code[5*n_packs]):\n",
    "            last_pack=True\n",
    "        code_value+=code[1+5*n_packs:5*(n_packs+1)]\n",
    "        n_packs+=1\n",
    "    return int(code_value,2),code[5*n_packs:]\n",
    "\n",
    "def evaluate_package(operation:int,values:tp.List[int])->int:\n",
    "    if operation==0:\n",
    "        return sum(values)\n",
    "    elif operation==1:\n",
    "        return math.prod(values)\n",
    "    elif operation==2:\n",
    "        return min(values)\n",
    "    elif operation==3:\n",
    "        return -evaluate_package(2,[-val for val in values])\n",
    "    elif operation==4:\n",
    "        return values[0]\n",
    "    elif operation==5:\n",
    "        if values[0]>values[1]:\n",
    "            return 1\n",
    "        else:\n",
    "            return 0\n",
    "    elif operation==6:\n",
    "        return evaluate_package(5,[-val for val in values])\n",
    "    elif operation==7:\n",
    "        if values[0]==values[1]:\n",
    "            return 1\n",
    "        else:\n",
    "            return 0\n",
    "    else:\n",
    "        raise Exception(f\"not accurate number to evaluate for value {operation}\")\n",
    "            \n",
    "ans_a,ans_b,left_over=parse_sequence(bin_code)\n",
    "#print(f\"total version (part A): {ans_a} and value (part B) {ans_b}. unused code: {left_over}\")"
   ]
  },
  {
   "cell_type": "code",
   "execution_count": 50,
   "metadata": {},
   "outputs": [],
   "source": [
    "#puzzle.answer_a = ans_a"
   ]
  },
  {
   "cell_type": "markdown",
   "metadata": {},
   "source": [
    "#### Part b"
   ]
  },
  {
   "cell_type": "code",
   "execution_count": null,
   "metadata": {},
   "outputs": [],
   "source": []
  },
  {
   "cell_type": "code",
   "execution_count": 194,
   "metadata": {},
   "outputs": [],
   "source": [
    "#puzzle.answer_b = ans_b"
   ]
  },
  {
   "cell_type": "markdown",
   "metadata": {},
   "source": [
    "#### Nao"
   ]
  },
  {
   "cell_type": "code",
   "execution_count": 2,
   "metadata": {},
   "outputs": [],
   "source": [
    "puzzle = Puzzle(year=2021, day=16)\n",
    "content = puzzle.input_data"
   ]
  },
  {
   "cell_type": "code",
   "execution_count": 3,
   "metadata": {},
   "outputs": [],
   "source": [
    "def hex2bin(hexa: str) -> str:\n",
    "    return bin(int(hexa, 16))[2:].zfill(len(hexa)*4)\n"
   ]
  },
  {
   "cell_type": "code",
   "execution_count": 4,
   "metadata": {},
   "outputs": [],
   "source": [
    "def get_version_type(stream:str) -> tp.Tuple[int, int, str]:\n",
    "    return int(stream[:3],2), int(stream[3:6],2), stream[6:]\n"
   ]
  },
  {
   "cell_type": "code",
   "execution_count": 5,
   "metadata": {},
   "outputs": [],
   "source": [
    "def get_type4_packet(stream:str) -> tp.Tuple[str, int]: \n",
    "    packet = \"\"\n",
    "    for cur_id in range(0,len(stream),5):\n",
    "        packet += stream[cur_id+1:cur_id+5]\n",
    "        if stream[cur_id] == \"0\":\n",
    "            return int(packet,2), stream[cur_id+5:]\n"
   ]
  },
  {
   "cell_type": "code",
   "execution_count": 6,
   "metadata": {},
   "outputs": [],
   "source": [
    "def get_len_typeid(stream:str) -> tp.Tuple[str, str]:\n",
    "    return int(stream[0],2), stream[1:]\n"
   ]
  },
  {
   "cell_type": "code",
   "execution_count": 30,
   "metadata": {},
   "outputs": [],
   "source": [
    "def parse_packet(bin_packet): \n",
    "    version, type_id, bin_packet = get_version_type(bin_packet)\n",
    "    versions = [version]\n",
    "    if type_id == 4:\n",
    "        decoded_packet, bin_packet = get_type4_packet(bin_packet)\n",
    "        \n",
    "    else:\n",
    "        length_type_id, bin_packet = get_len_typeid(bin_packet)\n",
    "        if length_type_id == 0: \n",
    "            len_subs = int(bin_packet[:15],2)\n",
    "            bin_packet = bin_packet[15:]\n",
    "            \n",
    "            sub_packet = bin_packet[:len_subs]\n",
    "            while sub_packet: \n",
    "                subversions, sub_packet = parse_packet(sub_packet)\n",
    "                versions.extend(subversions)\n",
    "            \n",
    "            bin_packet = bin_packet[len_subs:]\n",
    "        else:\n",
    "            n_subs = int(bin_packet[:11],2)\n",
    "            bin_packet = bin_packet[11:]\n",
    "            \n",
    "            for idx in range(n_subs): \n",
    "                subversions, bin_packet = parse_packet(bin_packet)\n",
    "                versions.extend(subversions)               \n",
    "           \n",
    "    return versions, bin_packet\n"
   ]
  },
  {
   "cell_type": "code",
   "execution_count": 32,
   "metadata": {},
   "outputs": [
    {
     "name": "stdout",
     "output_type": "stream",
     "text": [
      "[6, 0, 6, 5, 4, 1, 6, 5, 4, 7, 2, 2, 6, 5, 5, 4, 0, 1, 4, 1, 1, 6, 3, 5, 1, 4, 0, 2, 7, 5, 7, 6, 3, 2, 5, 2, 6, 2, 3, 1, 1, 3, 5, 2, 5, 0, 1, 6, 4, 4, 7, 4, 5, 4, 7, 7, 7, 6, 4, 4, 4, 4, 6, 1, 5, 6, 0, 3, 6, 5, 1, 7, 0, 1, 1, 5, 5, 6, 1, 3, 2, 1, 0, 5, 1, 2, 7, 5, 1, 4, 0, 2, 3, 5, 1, 3, 1, 1, 7, 3, 0, 7, 7, 6, 0, 5, 7, 2, 1, 1, 5, 1, 7, 7, 4, 3, 4, 3, 0, 6, 7, 0, 0, 5, 0, 3, 5, 0, 5, 7, 3, 7, 7, 6, 5, 3, 0, 0, 0, 7, 2, 6, 7, 1, 6, 4, 6, 1, 5, 4, 3, 3, 7, 3, 4, 1, 5, 5, 2, 6, 4, 0, 5, 3, 2, 4, 3, 4, 5, 0, 1, 2, 2, 3, 2, 4, 7, 1, 7, 6, 0, 0, 6, 3, 6, 0, 5, 0, 0, 0, 2, 5, 4, 2, 2, 6, 6, 6, 4, 1, 6, 0, 1, 0, 7, 0, 3, 0, 1, 5, 0, 7, 1, 5, 7, 5, 4, 5, 6, 3, 5, 5, 6, 1, 0, 2, 6, 1, 1, 4, 4, 7, 1, 0, 6, 6, 2, 0, 1, 5, 0, 6, 5, 5, 5, 0, 2, 7, 1, 7, 6, 6, 0, 6, 7, 4, 5, 6, 3, 5, 0, 2, 4, 6, 1, 7, 0, 3] 943 0\n"
     ]
    }
   ],
   "source": [
    "binary=hex2bin(puzzle.input_data)\n",
    "versions,rest=parse_packet(binary)\n",
    "print(versions,sum(versions),rest)"
   ]
  },
  {
   "cell_type": "code",
   "execution_count": 201,
   "metadata": {},
   "outputs": [
    {
     "ename": "RecursionError",
     "evalue": "maximum recursion depth exceeded while calling a Python object",
     "output_type": "error",
     "traceback": [
      "\u001b[0;31m---------------------------------------------------------------------------\u001b[0m",
      "\u001b[0;31mRecursionError\u001b[0m                            Traceback (most recent call last)",
      "\u001b[0;32m<ipython-input-201-ef4244443585>\u001b[0m in \u001b[0;36m<module>\u001b[0;34m\u001b[0m\n\u001b[1;32m      1\u001b[0m \u001b[0mbinary\u001b[0m \u001b[0;34m=\u001b[0m \u001b[0;34m\"00111000000000000110111101000101001010010001001000000000\"\u001b[0m\u001b[0;34m\u001b[0m\u001b[0;34m\u001b[0m\u001b[0m\n\u001b[0;32m----> 2\u001b[0;31m \u001b[0mversions\u001b[0m\u001b[0;34m,\u001b[0m \u001b[0mbinary\u001b[0m \u001b[0;34m=\u001b[0m \u001b[0mparse_packet\u001b[0m\u001b[0;34m(\u001b[0m\u001b[0mbinary\u001b[0m\u001b[0;34m)\u001b[0m\u001b[0;34m\u001b[0m\u001b[0;34m\u001b[0m\u001b[0m\n\u001b[0m",
      "\u001b[0;32m<ipython-input-200-c454e4ba1829>\u001b[0m in \u001b[0;36mparse_packet\u001b[0;34m(bin_packet)\u001b[0m\n\u001b[1;32m     19\u001b[0m             \u001b[0msub_packet\u001b[0m \u001b[0;34m=\u001b[0m \u001b[0mbin_packet\u001b[0m\u001b[0;34m[\u001b[0m\u001b[0;34m:\u001b[0m\u001b[0mlen_subs\u001b[0m\u001b[0;34m]\u001b[0m\u001b[0;34m\u001b[0m\u001b[0;34m\u001b[0m\u001b[0m\n\u001b[1;32m     20\u001b[0m             \u001b[0;32mwhile\u001b[0m \u001b[0msub_packet\u001b[0m\u001b[0;34m:\u001b[0m\u001b[0;34m\u001b[0m\u001b[0;34m\u001b[0m\u001b[0m\n\u001b[0;32m---> 21\u001b[0;31m                 \u001b[0msubversions\u001b[0m\u001b[0;34m,\u001b[0m \u001b[0msub_packet\u001b[0m \u001b[0;34m=\u001b[0m \u001b[0mparse_packet\u001b[0m\u001b[0;34m(\u001b[0m\u001b[0msub_packet\u001b[0m\u001b[0;34m)\u001b[0m\u001b[0;34m\u001b[0m\u001b[0;34m\u001b[0m\u001b[0m\n\u001b[0m\u001b[1;32m     22\u001b[0m                 \u001b[0mversions\u001b[0m\u001b[0;34m.\u001b[0m\u001b[0mextend\u001b[0m\u001b[0;34m(\u001b[0m\u001b[0msubversions\u001b[0m\u001b[0;34m)\u001b[0m\u001b[0;34m\u001b[0m\u001b[0;34m\u001b[0m\u001b[0m\n\u001b[1;32m     23\u001b[0m \u001b[0;34m\u001b[0m\u001b[0m\n",
      "... last 1 frames repeated, from the frame below ...\n",
      "\u001b[0;32m<ipython-input-200-c454e4ba1829>\u001b[0m in \u001b[0;36mparse_packet\u001b[0;34m(bin_packet)\u001b[0m\n\u001b[1;32m     19\u001b[0m             \u001b[0msub_packet\u001b[0m \u001b[0;34m=\u001b[0m \u001b[0mbin_packet\u001b[0m\u001b[0;34m[\u001b[0m\u001b[0;34m:\u001b[0m\u001b[0mlen_subs\u001b[0m\u001b[0;34m]\u001b[0m\u001b[0;34m\u001b[0m\u001b[0;34m\u001b[0m\u001b[0m\n\u001b[1;32m     20\u001b[0m             \u001b[0;32mwhile\u001b[0m \u001b[0msub_packet\u001b[0m\u001b[0;34m:\u001b[0m\u001b[0;34m\u001b[0m\u001b[0;34m\u001b[0m\u001b[0m\n\u001b[0;32m---> 21\u001b[0;31m                 \u001b[0msubversions\u001b[0m\u001b[0;34m,\u001b[0m \u001b[0msub_packet\u001b[0m \u001b[0;34m=\u001b[0m \u001b[0mparse_packet\u001b[0m\u001b[0;34m(\u001b[0m\u001b[0msub_packet\u001b[0m\u001b[0;34m)\u001b[0m\u001b[0;34m\u001b[0m\u001b[0;34m\u001b[0m\u001b[0m\n\u001b[0m\u001b[1;32m     22\u001b[0m                 \u001b[0mversions\u001b[0m\u001b[0;34m.\u001b[0m\u001b[0mextend\u001b[0m\u001b[0;34m(\u001b[0m\u001b[0msubversions\u001b[0m\u001b[0;34m)\u001b[0m\u001b[0;34m\u001b[0m\u001b[0;34m\u001b[0m\u001b[0m\n\u001b[1;32m     23\u001b[0m \u001b[0;34m\u001b[0m\u001b[0m\n",
      "\u001b[0;31mRecursionError\u001b[0m: maximum recursion depth exceeded while calling a Python object"
     ]
    }
   ],
   "source": [
    "binary = \"00111000000000000110111101000101001010010001001000000000\"\n",
    "versions, binary = parse_packet(binary)\n"
   ]
  },
  {
   "cell_type": "code",
   "execution_count": null,
   "metadata": {},
   "outputs": [],
   "source": []
  },
  {
   "cell_type": "markdown",
   "metadata": {},
   "source": [
    "### Day 15"
   ]
  },
  {
   "cell_type": "code",
   "execution_count": 184,
   "metadata": {},
   "outputs": [],
   "source": [
    "puzzle=Puzzle(year=2021,day=15)\n",
    "#print(puzzle.easter_eggs)"
   ]
  },
  {
   "cell_type": "markdown",
   "metadata": {},
   "source": [
    "#### Part a"
   ]
  },
  {
   "cell_type": "code",
   "execution_count": 191,
   "metadata": {},
   "outputs": [
    {
     "name": "stdout",
     "output_type": "stream",
     "text": [
      "136 ms ± 1.67 ms per loop (mean ± std. dev. of 7 runs, 10 loops each)\n"
     ]
    }
   ],
   "source": [
    "cavern=np.array([list(map(int,line)) for line in puzzle.input_data.split(\"\\n\")])\n",
    "#cavern=np.array([list(map(int,line)) for line in open(\"example_day15.txt\").read().split(\"\\n\")])\n",
    "\n",
    "\n",
    "def get_pos_in_flattened(idx:int,idy:int,len_x:int)->int:\n",
    "    return idx*len_x+idy\n",
    "\n",
    "def Dijkstra(grid:np.array,start:int,end:int)->int:\n",
    "    len_x=len(grid)\n",
    "    len_y=len(grid[0])\n",
    "\n",
    "    graph={}\n",
    "\n",
    "    for idx in range(len_x):\n",
    "        for idy in range(len_y):\n",
    "            graph[get_pos_in_flattened(idx,idy,len_x)]={get_pos_in_flattened(idx+deltax,idy+deltay,len_x):grid[idx+deltax,idy+deltay] for deltax,deltay in [(1,0),(0,1),(-1,0),(0,-1)]\n",
    "                                                             if 0<=idx+deltax<len_x and 0<=idy+deltay<len_y }\n",
    "    \n",
    "    ### initialise distances to infinity\n",
    "    min_risk= {}\n",
    "    for elem in graph:\n",
    "        min_risk[elem]=float(\"inf\")\n",
    "    \n",
    "    ### set risk of start to 0\n",
    "    initial = start\n",
    "    min_risk[initial]=0\n",
    "\n",
    "    nodes_to_do=set(graph)\n",
    "    seen_once_not_done={initial:0}\n",
    "    done=set()\n",
    "    \n",
    "    ### run Dijkstra\n",
    "    while not end in done:\n",
    "        cur=min(seen_once_not_done, key=seen_once_not_done.get)\n",
    "        for elem in graph[cur]:\n",
    "            min_risk[elem]=min(min_risk[elem],min_risk[cur]+graph[cur][elem])\n",
    "            if not elem in done:\n",
    "                seen_once_not_done[elem]=min_risk[elem]\n",
    "        done.add(cur)\n",
    "        seen_once_not_done.pop(cur)\n",
    "    return min_risk[end]\n",
    "\n",
    "ans_a=Dijkstra(cavern,0,len(cavern)*len(cavern[0])-1)\n",
    "#print(ans_a)\n"
   ]
  },
  {
   "cell_type": "code",
   "execution_count": 186,
   "metadata": {},
   "outputs": [],
   "source": [
    "#puzzle.answer_a = ans_a"
   ]
  },
  {
   "cell_type": "markdown",
   "metadata": {},
   "source": [
    "#### Part b"
   ]
  },
  {
   "cell_type": "code",
   "execution_count": 190,
   "metadata": {},
   "outputs": [
    {
     "name": "stdout",
     "output_type": "stream",
     "text": [
      "8.37 s ± 231 ms per loop (mean ± std. dev. of 7 runs, 1 loop each)\n"
     ]
    }
   ],
   "source": [
    "n_rep=5\n",
    "\n",
    "large_cavern=cavern\n",
    "for i in range(n_rep-1):\n",
    "    large_cavern=np.concatenate((large_cavern,(cavern+i)%9+1))\n",
    "long_cavern=large_cavern\n",
    "for i in range(n_rep-1):\n",
    "    large_cavern=np.concatenate((large_cavern,(long_cavern+i)%9+1),axis=1)\n",
    "\n",
    "\n",
    "ans_b=Dijkstra(large_cavern,0,len(cavern)*len(cavern[0])-1)\n",
    "#print(ans_b)"
   ]
  },
  {
   "cell_type": "code",
   "execution_count": 192,
   "metadata": {},
   "outputs": [],
   "source": [
    "#puzzle.answer_b = ans_b"
   ]
  },
  {
   "cell_type": "markdown",
   "metadata": {},
   "source": [
    "### Day 14"
   ]
  },
  {
   "cell_type": "code",
   "execution_count": 191,
   "metadata": {},
   "outputs": [],
   "source": [
    "puzzle=Puzzle(year=2021,day=14)\n",
    "#print(puzzle.easter_eggs)\n"
   ]
  },
  {
   "cell_type": "markdown",
   "metadata": {},
   "source": [
    "#### Part a"
   ]
  },
  {
   "cell_type": "code",
   "execution_count": 57,
   "metadata": {},
   "outputs": [
    {
     "name": "stdout",
     "output_type": "stream",
     "text": [
      "2.08 ms ± 123 µs per loop (mean ± std. dev. of 7 runs, 100 loops each)\n"
     ]
    }
   ],
   "source": [
    "start_polymer,instructions=puzzle.input_data.split(\"\\n\\n\")\n",
    "#start_polymer,instructions=open(\"example_day14.txt\").read().split(\"\\n\\n\")\n",
    "\n",
    "def polymerization(polymer:Counter,instructions:dict)->Counter:\n",
    "    \n",
    "    new_polymer=Counter()\n",
    "    for key in polymer:\n",
    "        new_polymer[key[0]+instructions[key]]+=polymer[key]\n",
    "        new_polymer[instructions[key]+key[1]]+=polymer[key]\n",
    "    \n",
    "    return new_polymer\n",
    "\n",
    "def get_element_count(polymer:Counter,start_polymer:str)->Counter:\n",
    "    element_counter=Counter()\n",
    "    for key in polymer:\n",
    "        element_counter[key[0]]+=polymer[key]\n",
    "    element_counter[start_polymer[-1]]+=1\n",
    "    return element_counter\n",
    "\n",
    "instructions_dict={}\n",
    "\n",
    "for line in instructions.split(\"\\n\"):\n",
    "    key,new_element=line.split(\" -> \")\n",
    "    instructions_dict[key]=new_element\n",
    "\n",
    "\n",
    "polymer=Counter()\n",
    "\n",
    "for i in range(len(start_polymer)-1):\n",
    "    key=start_polymer[i:i+2]\n",
    "    polymer[key]+=1\n",
    "\n",
    "n_polymerizations_a=10\n",
    "n_polymerizations_b=40\n",
    "for id_poly in range(n_polymerizations_b):\n",
    "    polymer=polymerization(polymer,instructions_dict)\n",
    "    if id_poly==n_polymerizations_a-1:\n",
    "        elems_a=get_element_count(polymer,start_polymer)\n",
    "\n",
    "ans_a=max(elems_a.values())-min(elems_a.values())\n",
    "#print(ans_a)\n"
   ]
  },
  {
   "cell_type": "code",
   "execution_count": 190,
   "metadata": {},
   "outputs": [],
   "source": [
    "#puzzle.answer_a = ans_a"
   ]
  },
  {
   "cell_type": "markdown",
   "metadata": {},
   "source": [
    "#### Part b"
   ]
  },
  {
   "cell_type": "code",
   "execution_count": 59,
   "metadata": {},
   "outputs": [
    {
     "name": "stdout",
     "output_type": "stream",
     "text": [
      "16.4 µs ± 247 ns per loop (mean ± std. dev. of 7 runs, 100000 loops each)\n"
     ]
    }
   ],
   "source": [
    "elems_b=get_element_count(polymer,start_polymer)\n",
    "ans_b=max(elems_b.values())-min(elems_b.values())"
   ]
  },
  {
   "cell_type": "code",
   "execution_count": 189,
   "metadata": {},
   "outputs": [],
   "source": [
    "#puzzle.answer_b = ans_b"
   ]
  },
  {
   "cell_type": "markdown",
   "metadata": {},
   "source": [
    "### Day 13"
   ]
  },
  {
   "cell_type": "code",
   "execution_count": 188,
   "metadata": {},
   "outputs": [],
   "source": [
    "puzzle=Puzzle(year=2021,day=13)\n",
    "#print(puzzle.easter_eggs)\n"
   ]
  },
  {
   "cell_type": "markdown",
   "metadata": {},
   "source": [
    "#### Part a"
   ]
  },
  {
   "cell_type": "code",
   "execution_count": 83,
   "metadata": {},
   "outputs": [
    {
     "name": "stdout",
     "output_type": "stream",
     "text": [
      "9.73 ms ± 158 µs per loop (mean ± std. dev. of 7 runs, 100 loops each)\n"
     ]
    },
    {
     "data": {
      "image/png": "[encoded data removed]",
      "text/plain": [
       "<Figure size 432x288 with 1 Axes>"
      ]
     },
     "metadata": {
      "needs_background": "light"
     },
     "output_type": "display_data"
    }
   ],
   "source": [
    "dots,instructions=puzzle.input_data.split(\"\\n\\n\")\n",
    "#dots,instructions=open(\"example_day13.txt\").read().split(\"\\n\\n\")\n",
    "#dots,instructions=open(\"reddit_day13.txt\").read().split(\"\\n\\n\")\n",
    "\n",
    "dots=list(map(lambda x: list(map(int,x.split(\",\"))),dots.split(\"\\n\")))\n",
    "\n",
    "max_x=max(list(map(lambda x: x[1], dots)))\n",
    "max_y=max(list(map(lambda x: x[0], dots)))\n",
    "\n",
    "paper=np.zeros((max_x+1,max_y+1))\n",
    "for point in dots:\n",
    "    paper[point[1],point[0]]=1\n",
    "\n",
    "def hor_fold(grid:np.array,line_to_split:int)->np.array:\n",
    "    lower_part=grid[line_to_split+1:,:]\n",
    "    upper_part=grid[:line_to_split,:]\n",
    "    \n",
    "    flipped_lower=np.flip(lower_part,axis=0)\n",
    "    upper_part[-len(flipped_lower):,:]+=flipped_lower\n",
    "    \n",
    "    return upper_part\n",
    "\n",
    "def ver_fold(grid:np.array,line_to_split:int)->np.array:\n",
    "    \n",
    "    return (hor_fold(grid.T,line_to_split)).T\n",
    "\n",
    "ans_a=0\n",
    "for n_fold,fold in enumerate(instructions.split(\"\\n\")):\n",
    "    orientation,n_line=fold.split(\"=\")\n",
    "    n_line=int(n_line)\n",
    "    if orientation[-1]==\"y\":\n",
    "        paper=hor_fold(paper,n_line)\n",
    "    elif orientation[-1]==\"x\":\n",
    "        paper=ver_fold(paper,n_line)\n",
    "    else:\n",
    "        raise Exception(\"no such fold\")\n",
    "    if n_fold==0:\n",
    "        ans_a=len(np.nonzero(paper)[0])\n",
    "\n",
    "import matplotlib.pyplot as plt\n",
    "\n",
    "plt.imshow(paper)\n",
    "\n",
    "#print(ans_a)\n",
    "#plt.show()\n"
   ]
  },
  {
   "cell_type": "code",
   "execution_count": 187,
   "metadata": {},
   "outputs": [],
   "source": [
    "#puzzle.answer_a = ans_a"
   ]
  },
  {
   "cell_type": "markdown",
   "metadata": {},
   "source": [
    "#### Part b"
   ]
  },
  {
   "cell_type": "code",
   "execution_count": 186,
   "metadata": {},
   "outputs": [],
   "source": [
    "ans_b=\"RLBCJGLU\""
   ]
  },
  {
   "cell_type": "code",
   "execution_count": 185,
   "metadata": {},
   "outputs": [],
   "source": [
    "#puzzle.answer_b = ans_b"
   ]
  },
  {
   "cell_type": "markdown",
   "metadata": {},
   "source": [
    "### Day 12"
   ]
  },
  {
   "cell_type": "code",
   "execution_count": 181,
   "metadata": {},
   "outputs": [],
   "source": [
    "puzzle=Puzzle(year=2021,day=12)\n",
    "#print(puzzle.easter_eggs)\n"
   ]
  },
  {
   "cell_type": "markdown",
   "metadata": {},
   "source": [
    "#### Part a"
   ]
  },
  {
   "cell_type": "code",
   "execution_count": 183,
   "metadata": {},
   "outputs": [
    {
     "name": "stdout",
     "output_type": "stream",
     "text": [
      "12.3 ms ± 477 µs per loop (mean ± std. dev. of 7 runs, 100 loops each)\n"
     ]
    }
   ],
   "source": [
    "from collections import deque\n",
    "lines=puzzle.input_data.split(\"\\n\")\n",
    "#lines=open(\"example_day12.txt\").read().split(\"\\n\")\n",
    "\n",
    "def generate_graph(in_list:tp.List[str],start_node=\"start\",end_node=\"end\")->dict:\n",
    "    graph={}\n",
    "    for line in in_list:\n",
    "        [node_in,node_out]=line.split(\"-\")\n",
    "        if not node_in in graph:\n",
    "            graph[node_in]=[node_out]\n",
    "        else:\n",
    "            graph[node_in]+=[node_out]\n",
    "        if not node_in==start_node or node_out==end_node:\n",
    "            if not node_out in graph:\n",
    "                graph[node_out]=[node_in]\n",
    "            else:\n",
    "                graph[node_out]+=[node_in]\n",
    "    return graph\n",
    "\n",
    "graph=generate_graph(lines)\n",
    "\n",
    "def explore_one_node(graph:dict,path:tp.List[str],current_node:str=\"start\",end_node:str=\"end\")->tp.List[str]:\n",
    "    paths=[]\n",
    "    for node in graph[current_node]:\n",
    "        if node==end_node:\n",
    "            paths.append(path.copy()+[end_node])\n",
    "        elif (not node in path) or node.isupper():\n",
    "            paths+=explore_one_node(graph,path.copy()+[node],node)\n",
    "    return paths\n",
    "            \n",
    "            \n",
    "            \n",
    "paths=[\"start\"]\n",
    "ans_a=len(explore_one_node(graph,paths))\n",
    "\n",
    "#print(ans_a)"
   ]
  },
  {
   "cell_type": "code",
   "execution_count": 19,
   "metadata": {},
   "outputs": [],
   "source": [
    "#puzzle.answer_a = ans_a"
   ]
  },
  {
   "cell_type": "markdown",
   "metadata": {},
   "source": [
    "#### Part b"
   ]
  },
  {
   "cell_type": "code",
   "execution_count": 184,
   "metadata": {},
   "outputs": [
    {
     "name": "stdout",
     "output_type": "stream",
     "text": [
      "1.58 s ± 42.7 ms per loop (mean ± std. dev. of 7 runs, 1 loop each)\n"
     ]
    }
   ],
   "source": [
    "def explore_one_node_patient(graph:dict,path:tp.List[str],current_node:str=\"start\",end_node:str=\"end\")->tp.List[str]:\n",
    "    paths=[]\n",
    "    for node in graph[current_node]:\n",
    "        small_seen=[cave for cave in path if cave.islower()]\n",
    "        if node==end_node:\n",
    "            paths.append(path.copy()+[end_node])\n",
    "        elif (not node in path) or node.isupper() or len(small_seen)==len(set(small_seen)):\n",
    "            paths+=explore_one_node_patient(graph,path.copy()+[node],node)\n",
    "    return paths\n",
    "            \n",
    "            \n",
    "paths=[\"start\"]\n",
    "ans_b=len(explore_one_node_patient(graph,paths))\n",
    "#print(ans_b)"
   ]
  },
  {
   "cell_type": "code",
   "execution_count": 21,
   "metadata": {},
   "outputs": [],
   "source": [
    "#puzzle.answer_b = ans_b"
   ]
  },
  {
   "cell_type": "markdown",
   "metadata": {},
   "source": [
    "### Day 11"
   ]
  },
  {
   "cell_type": "code",
   "execution_count": 176,
   "metadata": {},
   "outputs": [],
   "source": [
    "puzzle=Puzzle(year=2021,day=11)\n",
    "#print(puzzle.easter_eggs)\n"
   ]
  },
  {
   "cell_type": "markdown",
   "metadata": {},
   "source": [
    "#### Part a"
   ]
  },
  {
   "cell_type": "code",
   "execution_count": 178,
   "metadata": {},
   "outputs": [
    {
     "name": "stdout",
     "output_type": "stream",
     "text": [
      "12.2 ms ± 722 µs per loop (mean ± std. dev. of 7 runs, 100 loops each)\n"
     ]
    }
   ],
   "source": [
    "octopy=np.array([list(map(int,line)) for line in puzzle.input_data.split(\"\\n\")])\n",
    "#octopy=np.array([list(map(int,line)) for line in open(\"example_day11_2.txt\").read().split(\"\\n\")])\n",
    "\n",
    "\n",
    "\n",
    "octopy=np.pad(octopy,pad_width=1,constant_values=1000)\n",
    "\n",
    "def flash(grid:np.array,idx:int,idy:int)->np.array:\n",
    "    grid[idx-1:idx+2,idy-1:idy+2]+=1\n",
    "    grid[idx,idy]-=1\n",
    "    return grid\n",
    "\n",
    "    \n",
    "\n",
    "def flash_one_step(grid:np.array)->tp.Tuple[np.array,int]:\n",
    "    n_flash=0\n",
    "    flashed_matrix=(grid >9)\n",
    "    grid+=1\n",
    "    flashing=True\n",
    "    while flashing:\n",
    "        new_flash=(grid>9)\n",
    "        to_flash=np.logical_and(new_flash, np.invert(flashed_matrix))\n",
    "        to_flash=np.where(to_flash)\n",
    "        if len(to_flash[0])==0:\n",
    "            flashing=False\n",
    "        else:\n",
    "            for idx,idy in zip(to_flash[0],to_flash[1]):\n",
    "                grid=flash(grid,idx,idy)\n",
    "                n_flash+=1\n",
    "                flashed_matrix[idx,idy]=True\n",
    "    \n",
    "    indices_flashed=np.where(flashed_matrix[1:len(grid)-1,1:len(grid[0])-1])\n",
    "    grid[indices_flashed[0]+1,indices_flashed[1]+1]=0\n",
    "    return grid,n_flash\n",
    "\n",
    "n_flash=0\n",
    "max_steps=100\n",
    "\n",
    "for n_step in range(max_steps):\n",
    "    octopy,new_flashes=flash_one_step(octopy)\n",
    "    n_flash+=new_flashes\n",
    "#print(octopy)\n",
    "#print(n_flash)\n",
    "ans_a=n_flash\n"
   ]
  },
  {
   "cell_type": "code",
   "execution_count": 179,
   "metadata": {},
   "outputs": [],
   "source": [
    "#puzzle.answer_a = ans_a"
   ]
  },
  {
   "cell_type": "markdown",
   "metadata": {},
   "source": [
    "#### Part b"
   ]
  },
  {
   "cell_type": "code",
   "execution_count": 180,
   "metadata": {},
   "outputs": [
    {
     "name": "stdout",
     "output_type": "stream",
     "text": [
      "60.8 ms ± 2.62 ms per loop (mean ± std. dev. of 7 runs, 10 loops each)\n"
     ]
    }
   ],
   "source": [
    "octopy=np.array([list(map(int,line)) for line in puzzle.input_data.split(\"\\n\")])\n",
    "#octopy=np.array([list(map(int,line)) for line in open(\"example_day11_2.txt\").read().split(\"\\n\")])\n",
    "\n",
    "\n",
    "\n",
    "octopy=np.pad(octopy,pad_width=1,constant_values=1000)\n",
    "\n",
    "    \n",
    "    \n",
    "n_flash=0\n",
    "n_steps=0\n",
    "synchrone=False\n",
    "\n",
    "while not synchrone:\n",
    "    octopy,new_flashes=flash_one_step(octopy)\n",
    "    n_steps+=1\n",
    "    if new_flashes==math.prod(list(map(lambda x: x-2,octopy.shape))):\n",
    "        synchrone=True\n",
    "    \n",
    "\n",
    "#print(octopy)\n",
    "ans_b=n_steps\n",
    "#print(ans_b)\n"
   ]
  },
  {
   "cell_type": "code",
   "execution_count": 55,
   "metadata": {},
   "outputs": [],
   "source": [
    "#puzzle.answer_b = ans_b"
   ]
  },
  {
   "cell_type": "markdown",
   "metadata": {},
   "source": [
    "### Day 10"
   ]
  },
  {
   "cell_type": "code",
   "execution_count": 172,
   "metadata": {},
   "outputs": [],
   "source": [
    "puzzle=Puzzle(year=2021,day=10)\n",
    "#print(puzzle.easter_eggs)\n"
   ]
  },
  {
   "cell_type": "markdown",
   "metadata": {},
   "source": [
    "#### Part a"
   ]
  },
  {
   "cell_type": "code",
   "execution_count": 174,
   "metadata": {},
   "outputs": [
    {
     "name": "stdout",
     "output_type": "stream",
     "text": [
      "2.47 ms ± 214 µs per loop (mean ± std. dev. of 7 runs, 100 loops each)\n"
     ]
    }
   ],
   "source": [
    "lines=puzzle.input_data.split('\\n')\n",
    "#lines=open(\"example_day10.txt\").read().split('\\n')\n",
    "score_dictionary={\")\":3,\"]\":57,\"}\":1197,\">\":25137}\n",
    "\n",
    "from collections import deque\n",
    "\n",
    "def find_opening_parenthesis(char:str)->str:\n",
    "    if char==\")\":\n",
    "        return\"(\"\n",
    "    else:\n",
    "        return chr(ord(char)-2)\n",
    "\n",
    "\n",
    "def add_to_stack(stack:deque,new_char:str)->tp.Tuple[bool,deque]:\n",
    "    if new_char in \"{([<\":\n",
    "        stack.append(new_char)\n",
    "        return True,stack\n",
    "    else:\n",
    "        if stack[-1]==find_opening_parenthesis(new_char):\n",
    "            stack.pop()\n",
    "            return True, stack\n",
    "        else:\n",
    "            return False,stack\n",
    "\n",
    "score=0\n",
    "good_lines=[]\n",
    "for line in lines:\n",
    "    stack=deque()\n",
    "    stack.append(line[0])\n",
    "    ctr_line=1\n",
    "    no_error=True\n",
    "    while no_error and ctr_line<len(line):\n",
    "        no_error,stack=add_to_stack(stack,line[ctr_line])\n",
    "        ctr_line+=1\n",
    "    if not no_error:\n",
    "        score+=score_dictionary[line[ctr_line-1]]\n",
    "    else:\n",
    "        good_lines.append(line)\n",
    "ans_a=score\n",
    "#print(ans_a)\n",
    "\n"
   ]
  },
  {
   "cell_type": "code",
   "execution_count": 6,
   "metadata": {},
   "outputs": [],
   "source": [
    "#puzzle.answer_a = ans_a"
   ]
  },
  {
   "cell_type": "markdown",
   "metadata": {},
   "source": [
    "#### Part b"
   ]
  },
  {
   "cell_type": "code",
   "execution_count": 175,
   "metadata": {},
   "outputs": [
    {
     "name": "stdout",
     "output_type": "stream",
     "text": [
      "893 µs ± 33.7 µs per loop (mean ± std. dev. of 7 runs, 1000 loops each)\n"
     ]
    }
   ],
   "source": [
    "def find_closing_parenthesis(char:str)->str:\n",
    "    if ord(char)==40:\n",
    "        return \")\"\n",
    "    else:\n",
    "        return chr(ord(char)+2)\n",
    "\n",
    "        \n",
    "def find_stack_completion(in_str:str)->str:\n",
    "    completion_str=\"\"\n",
    "    to_remove=deque()\n",
    "    for char in reversed(in_str):\n",
    "        if char in \"{([<\":\n",
    "            if not to_remove or to_remove[-1]!=char:\n",
    "                completion_str+=find_closing_parenthesis(char)\n",
    "            elif to_remove:\n",
    "                to_remove.pop()\n",
    "        else:\n",
    "            to_remove.append(find_opening_parenthesis(char))\n",
    "    return completion_str\n",
    "\n",
    "score_dictionary_completion={\")\":1,\"]\":2,\"}\":3,\">\":4}\n",
    "\n",
    "score_completion=[]\n",
    "for line in good_lines:\n",
    "    completion_stack=find_stack_completion(line)\n",
    "    score_line=0\n",
    "    for char in completion_stack:\n",
    "        score_line*=5\n",
    "        score_line+=score_dictionary_completion[char]\n",
    "    score_completion.append(score_line)\n",
    "    \n",
    "    \n",
    "score_completion.sort()\n",
    "ans_b=score_completion[int(len(score_completion)/2)]\n",
    "#print(ans_b)"
   ]
  },
  {
   "cell_type": "code",
   "execution_count": 8,
   "metadata": {},
   "outputs": [],
   "source": [
    "#puzzle.answer_b = ans_b"
   ]
  },
  {
   "cell_type": "markdown",
   "metadata": {},
   "source": [
    "### Day 9"
   ]
  },
  {
   "cell_type": "code",
   "execution_count": 168,
   "metadata": {},
   "outputs": [],
   "source": [
    "puzzle=Puzzle(year=2021,day=9)"
   ]
  },
  {
   "cell_type": "markdown",
   "metadata": {},
   "source": [
    "#### Part a"
   ]
  },
  {
   "cell_type": "code",
   "execution_count": 170,
   "metadata": {},
   "outputs": [
    {
     "name": "stdout",
     "output_type": "stream",
     "text": [
      "14.4 ms ± 365 µs per loop (mean ± std. dev. of 7 runs, 100 loops each)\n"
     ]
    }
   ],
   "source": [
    "class Coordinate:\n",
    "    def __init__(self,x:int,y:int) -> None:\n",
    "        self.x=x\n",
    "        self.y=y\n",
    "    \n",
    "    def __eq__(self,other)->bool:\n",
    "        return self.x==other.x and self.y==other.y\n",
    "\n",
    "\n",
    "def find_low_points(grid:np.array)->tp.List[Coordinate]:\n",
    "    return_list=[]\n",
    "    for id_x in range(len(grid)):\n",
    "        for id_y in range(len(grid[0])):\n",
    "            \n",
    "            not_to_check=[]\n",
    "            if id_x==0:\n",
    "                not_to_check.append(\"idx_bot\")\n",
    "            if id_x==len(grid)-1:\n",
    "                not_to_check.append(\"idx_top\")\n",
    "            if id_y==0:\n",
    "                not_to_check.append(\"idy_bot\")\n",
    "            if id_y==len(grid[0])-1:\n",
    "                not_to_check.append(\"idy_top\")\n",
    "            \n",
    "            if (\"idx_bot\" in not_to_check or grid[max(id_x-1,0),id_y] > grid[id_x,id_y]) \\\n",
    "                and (\"idx_top\" in not_to_check or grid[id_x,id_y] < grid[min(id_x+1,len(grid)-1),id_y]) \\\n",
    "                and (\"idy_bot\" in not_to_check or grid[id_x,max(id_y-1,0)] > grid[id_x,id_y]) \\\n",
    "                and (\"idy_top\" in not_to_check or grid[id_x,id_y] < grid[id_x,min(id_y+1,len(grid[0])-1)] ):\n",
    "                    return_list.append(Coordinate(id_x,id_y))\n",
    "    return return_list\n",
    "grid=np.array([list(map(int,[character for character in line])) for line in puzzle.input_data.split(\"\\n\")])\n",
    "#grid=np.array([list(map(int,[character for character in line])) for line in open(\"example_day9.txt\").read().split(\"\\n\")])\n",
    "\n",
    "low_points=find_low_points(grid)\n",
    "ans_a=sum(grid[coor.x,coor.y] for coor in low_points)+len(low_points)\n",
    "#print(ans_a)\n",
    "\n",
    "#print(puzzle.easter_eggs)\n"
   ]
  },
  {
   "cell_type": "code",
   "execution_count": 4,
   "metadata": {},
   "outputs": [
    {
     "name": "stdout",
     "output_type": "stream",
     "text": [
      "Part a already solved with same answer: 572\n"
     ]
    }
   ],
   "source": [
    "#puzzle.answer_a = ans_a"
   ]
  },
  {
   "cell_type": "markdown",
   "metadata": {},
   "source": [
    "#### Part b"
   ]
  },
  {
   "cell_type": "code",
   "execution_count": 171,
   "metadata": {},
   "outputs": [
    {
     "name": "stdout",
     "output_type": "stream",
     "text": [
      "52.6 ms ± 2.56 ms per loop (mean ± std. dev. of 7 runs, 10 loops each)\n"
     ]
    }
   ],
   "source": [
    "def find_higher_neighbours(grid:np.array,coor:Coordinate)->tp.List[Coordinate]:\n",
    "    return_list=[]\n",
    "    if coor.x!=0 and 9 > grid[coor.x-1,coor.y]>grid[coor.x,coor.y]:\n",
    "        return_list.append(Coordinate(coor.x-1,coor.y))\n",
    "    if coor.x!=len(grid)-1 and 9 > grid[coor.x+1,coor.y]>grid[coor.x,coor.y]:\n",
    "        return_list.append(Coordinate(coor.x+1,coor.y))\n",
    "    if coor.y!=0 and 9 > grid[coor.x,coor.y-1]>grid[coor.x,coor.y]:\n",
    "        return_list.append(Coordinate(coor.x,coor.y-1))\n",
    "    if coor.y!=len(grid[0])-1 and 9 > grid[coor.x,coor.y+1]>grid[coor.x,coor.y]:\n",
    "        return_list.append(Coordinate(coor.x,coor.y+1))\n",
    "    return return_list\n",
    "\n",
    "\n",
    "bassins=[[coor] for coor in low_points]\n",
    "\n",
    "for i_bassin,low_point in enumerate(low_points):\n",
    "    coords_to_check=[low_point]\n",
    "    while len(coords_to_check)!=0:\n",
    "        new_coords=[coor for coor in find_higher_neighbours(grid,coords_to_check[0]) if not coor in bassins[i_bassin]]\n",
    "        bassins[i_bassin]+=new_coords\n",
    "        coords_to_check=coords_to_check[1:]+new_coords\n",
    "\n",
    "bassins=sorted(bassins,key=len)\n",
    "\n",
    "ans_b=math.prod(list(map(len,bassins[-3:])))\n",
    "\n",
    "#print(ans_b)"
   ]
  },
  {
   "cell_type": "code",
   "execution_count": 6,
   "metadata": {},
   "outputs": [],
   "source": [
    "#puzzle.answer_b = ans_b"
   ]
  },
  {
   "cell_type": "markdown",
   "metadata": {},
   "source": [
    "### Day 8"
   ]
  },
  {
   "cell_type": "code",
   "execution_count": 162,
   "metadata": {},
   "outputs": [],
   "source": [
    "puzzle=Puzzle(year=2021,day=8)\n",
    "#print(puzzle.easter_eggs)\n"
   ]
  },
  {
   "cell_type": "markdown",
   "metadata": {},
   "source": [
    "#### Part a"
   ]
  },
  {
   "cell_type": "code",
   "execution_count": 166,
   "metadata": {},
   "outputs": [
    {
     "name": "stdout",
     "output_type": "stream",
     "text": [
      "259 µs ± 18.5 µs per loop (mean ± std. dev. of 7 runs, 1000 loops each)\n"
     ]
    }
   ],
   "source": [
    "reads=puzzle.input_data.split('\\n')\n",
    "\n",
    "ctr_a=0\n",
    "\n",
    "for line in reads:\n",
    "    numbers=line.split(\" | \")[1].split(\" \")\n",
    "    ctr_a+=len([val for val in numbers if len(val)<=4 or len(val)==7])\n",
    "\n",
    "ans_a=ctr_a\n",
    "#print(ans_a)"
   ]
  },
  {
   "cell_type": "code",
   "execution_count": 164,
   "metadata": {},
   "outputs": [],
   "source": [
    "#puzzle.answer_a = ans_a"
   ]
  },
  {
   "cell_type": "markdown",
   "metadata": {},
   "source": [
    "#### Part b"
   ]
  },
  {
   "cell_type": "code",
   "execution_count": 167,
   "metadata": {},
   "outputs": [
    {
     "name": "stdout",
     "output_type": "stream",
     "text": [
      "5.94 ms ± 303 µs per loop (mean ± std. dev. of 7 runs, 100 loops each)\n"
     ]
    }
   ],
   "source": [
    "def is_in_other_number(number1:str,number2:str)->bool:\n",
    "    return all([character in number2 for character in number1])\n",
    "\n",
    "def fill_dict(options:tp.List[str])->dict:\n",
    "    encoder={}\n",
    "    encoder[1]=[val for val in options if len(val)==2][0]\n",
    "    encoder[4]=[val for val in options if len(val)==4][0]\n",
    "    encoder[7]=[val for val in options if len(val)==3][0]\n",
    "    encoder[8]=[val for val in options if len(val)==7][0]\n",
    "    encoder[3]=[val for val in options if len(val)==5 and is_in_other_number(encoder[1],val)][0]\n",
    "    encoder[2]=[val for val in options if len(val)==5 and not is_in_other_number(encoder[1],val) and\n",
    "               not is_in_other_number(\"\".join([character for character in encoder[4] if not character in encoder[1]]),val)][0]\n",
    "    encoder[5]=[val for val in options if len(val)==5 and not is_in_other_number(encoder[1],val) and\n",
    "               is_in_other_number(\"\".join([character for character in encoder[4] if not character in encoder[1]]),val)][0]\n",
    "    encoder[0]=[val for val in options if len(val)==6 and not is_in_other_number(encoder[5],val)][0]\n",
    "    encoder[6]=[val for val in options if len(val)==6 and is_in_other_number(encoder[5],val) and not is_in_other_number(encoder[1],val)][0]\n",
    "    encoder[9]=[val for val in options if len(val)==6 and is_in_other_number(encoder[5],val) and is_in_other_number(encoder[1],val)][0]\n",
    "    return encoder\n",
    "\n",
    "def invert_dictionary(encoder:dict)->dict:\n",
    "    wiring={}\n",
    "    for val in encoder:\n",
    "        wiring[encoder[val]]=val\n",
    "    return wiring\n",
    "\n",
    "ctr_b=0\n",
    "for line in reads:\n",
    "    [examples,number_encoded]=line.split(\" | \")\n",
    "    encoder=fill_dict(list(map(lambda x: \"\".join(sorted(x)),examples.split(\" \"))))\n",
    "    wiring=invert_dictionary(encoder)\n",
    "    number=[wiring[\"\".join(sorted(val))] for val in number_encoded.split(\" \")]\n",
    "    number=int(\"\".join([str(val) for val in number]))\n",
    "    ctr_b+=number\n",
    "\n",
    "ans_b=ctr_b\n",
    "#print(ans_b)\n"
   ]
  },
  {
   "cell_type": "code",
   "execution_count": 62,
   "metadata": {},
   "outputs": [],
   "source": [
    "#puzzle.answer_b = ans_b"
   ]
  },
  {
   "cell_type": "markdown",
   "metadata": {},
   "source": [
    "### Day 7"
   ]
  },
  {
   "cell_type": "code",
   "execution_count": 158,
   "metadata": {},
   "outputs": [],
   "source": [
    "puzzle=Puzzle(year=2021,day=7)\n",
    "#print(puzzle.easter_eggs)\n"
   ]
  },
  {
   "cell_type": "markdown",
   "metadata": {},
   "source": [
    "#### Part a"
   ]
  },
  {
   "cell_type": "code",
   "execution_count": 160,
   "metadata": {},
   "outputs": [
    {
     "name": "stdout",
     "output_type": "stream",
     "text": [
      "327 µs ± 10.9 µs per loop (mean ± std. dev. of 7 runs, 1000 loops each)\n"
     ]
    }
   ],
   "source": [
    "crabs=list(map(int,puzzle.input_data.split(\",\")))\n",
    "\n",
    "def calc_fuel(crabs:tp.List[int],target:int,power=1):\n",
    "    if power==1:\n",
    "        return sum(abs(pos-target) for pos in crabs)\n",
    "    if power==2:\n",
    "        distances=[abs(pos-target) for pos in crabs]\n",
    "        return sum(pos*(pos+1)/2 for pos in distances)\n",
    "from statistics import median\n",
    "\n",
    "best_pos=0\n",
    "best_fuel=10000000000\n",
    "\n",
    "\n",
    "best_pos_a=int(median(crabs))\n",
    "\n",
    "#print(best_pos_a)\n",
    "ans_a=calc_fuel(crabs,best_pos_a)\n",
    "#print(ans_a)"
   ]
  },
  {
   "cell_type": "code",
   "execution_count": 75,
   "metadata": {},
   "outputs": [],
   "source": [
    "#puzzle.answer_a = ans_a"
   ]
  },
  {
   "cell_type": "markdown",
   "metadata": {},
   "source": [
    "#### Part b"
   ]
  },
  {
   "cell_type": "code",
   "execution_count": 161,
   "metadata": {},
   "outputs": [
    {
     "name": "stdout",
     "output_type": "stream",
     "text": [
      "313 µs ± 9.73 µs per loop (mean ± std. dev. of 7 runs, 1000 loops each)\n"
     ]
    }
   ],
   "source": [
    "best_pos_b=sum(crabs)/len(crabs)\n",
    "\n",
    "\n",
    "ans_b=int(min(calc_fuel(crabs,int(best_pos_b),2),calc_fuel(crabs,int(best_pos_b+1),2)))\n",
    "#print(best_pos_b,ans_b)\n"
   ]
  },
  {
   "cell_type": "code",
   "execution_count": 84,
   "metadata": {},
   "outputs": [],
   "source": [
    "#puzzle.answer_b = ans_b"
   ]
  },
  {
   "cell_type": "markdown",
   "metadata": {},
   "source": [
    "### Day 6"
   ]
  },
  {
   "cell_type": "code",
   "execution_count": 154,
   "metadata": {},
   "outputs": [],
   "source": [
    "puzzle=Puzzle(year=2021,day=6)\n",
    "#print(puzzle.easter_eggs)\n"
   ]
  },
  {
   "cell_type": "markdown",
   "metadata": {},
   "source": [
    "#### Part a"
   ]
  },
  {
   "cell_type": "code",
   "execution_count": 157,
   "metadata": {},
   "outputs": [
    {
     "name": "stdout",
     "output_type": "stream",
     "text": [
      "253 µs ± 4.25 µs per loop (mean ± std. dev. of 7 runs, 1000 loops each)\n"
     ]
    }
   ],
   "source": [
    "from collections import Counter\n",
    "\n",
    "input_population=[int(val) for val in puzzle.input_data.split(\",\")]\n",
    "#input_population=[int(val) for val in \"3,4,3,1,2\".split(',')]\n",
    "\n",
    "fish=Counter(input_population)\n",
    "\n",
    "def one_generation(fish_pop:Counter)->Counter:\n",
    "    new_pop=Counter()\n",
    "    for age in range(8,0,-1):\n",
    "        new_pop[age-1]=fish_pop[age]\n",
    "    new_pop[6]+=fish_pop[0]\n",
    "    new_pop[8]=fish_pop[0]\n",
    "    return new_pop\n",
    "\n",
    "target_a=80\n",
    "for _ in range(target_a):\n",
    "    fish=one_generation(fish)\n",
    "\n",
    "ans_a=sum(fish.values())\n",
    "#print(ans_a)"
   ]
  },
  {
   "cell_type": "code",
   "execution_count": 30,
   "metadata": {},
   "outputs": [
    {
     "name": "stdout",
     "output_type": "stream",
     "text": [
      "\u001b[32mThat's the right answer!  You are one gold star closer to finding the sleigh keys. [Continue to Part Two]\u001b[0m\n"
     ]
    }
   ],
   "source": [
    "#puzzle.answer_a = ans_a"
   ]
  },
  {
   "cell_type": "markdown",
   "metadata": {},
   "source": [
    "#### Part b"
   ]
  },
  {
   "cell_type": "code",
   "execution_count": 156,
   "metadata": {},
   "outputs": [
    {
     "name": "stdout",
     "output_type": "stream",
     "text": [
      "568 µs ± 19.7 µs per loop (mean ± std. dev. of 7 runs, 1000 loops each)\n"
     ]
    }
   ],
   "source": [
    "target_b=256\n",
    "fish=Counter(input_population)\n",
    "for _ in range(target_b):\n",
    "    fish=one_generation(fish)\n",
    "\n",
    "ans_b=sum(fish.values())\n",
    "#print(ans_b)"
   ]
  },
  {
   "cell_type": "code",
   "execution_count": 34,
   "metadata": {},
   "outputs": [
    {
     "name": "stdout",
     "output_type": "stream",
     "text": [
      "\u001b[32mThat's the right answer!  You are one gold star closer to finding the sleigh keys.You have completed Day 6! You can [Shareon\n",
      "  Twitter\n",
      "Mastodon] this victory or [Return to Your Advent Calendar].\u001b[0m\n"
     ]
    }
   ],
   "source": [
    "#puzzle.answer_b = ans_b"
   ]
  },
  {
   "cell_type": "markdown",
   "metadata": {},
   "source": [
    "### Day 5"
   ]
  },
  {
   "cell_type": "code",
   "execution_count": 129,
   "metadata": {},
   "outputs": [],
   "source": [
    "puzzle=Puzzle(year=2021,day=5)\n",
    "#print(puzzle.easter_eggs)\n"
   ]
  },
  {
   "cell_type": "markdown",
   "metadata": {},
   "source": [
    "#### Part a"
   ]
  },
  {
   "cell_type": "code",
   "execution_count": 130,
   "metadata": {},
   "outputs": [
    {
     "name": "stdout",
     "output_type": "stream",
     "text": [
      "481 ms ± 26.8 ms per loop (mean ± std. dev. of 7 runs, 1 loop each)\n"
     ]
    }
   ],
   "source": [
    "winds=[line.split(\" -> \") for line in puzzle.input_data.strip().split('\\n')]\n",
    "\n",
    "    \n",
    "class Coordinate:\n",
    "    def __init__(self,x:int,y:int) -> None:\n",
    "        self.x=x\n",
    "        self.y=y\n",
    "    \n",
    "    def __eq__(self,other)->bool:\n",
    "        return self.x==other.x and self.y==other.y\n",
    "\n",
    "\n",
    "        \n",
    "class Wind:\n",
    "    def __init__(self,start_point:Coordinate,end_point:Coordinate) -> None:\n",
    "        self.start_point=start_point\n",
    "        self.end_point=end_point\n",
    "        \n",
    "    def get_coords(self) -> tp.List[Coordinate]:\n",
    "        n_points=max(abs(self.start_point.x-self.end_point.x),abs(self.start_point.y-self.end_point.y))\n",
    "        for n in range(n_points+1):\n",
    "            if abs((self.start_point.x+n*(self.end_point.x-self.start_point.x)/(n_points))%1)>0.0000001:\n",
    "                print(\"shit)\")\n",
    "            if abs((self.start_point.y+n*(self.end_point.y-self.start_point.y)/(n_points))%1>0.0000001):\n",
    "                print(\"shit 2\")\n",
    "        return [Coordinate(int(self.start_point.x+n*(self.end_point.x-self.start_point.x)/(n_points)),\n",
    "                     int(self.start_point.y+n*(self.end_point.y-self.start_point.y)/(n_points))) for n in range(n_points+1)]\n",
    "\n",
    "    def is_straight(self) -> bool:\n",
    "        if self.start_point.x==self.end_point.x or self.start_point.y==self.end_point.y:\n",
    "            return True\n",
    "        else:\n",
    "            #print(\"no\",self.start_point.x-self.end_point.x,self.start_point.y-self.end_point.y)\n",
    "            return False\n",
    "\n",
    "\n",
    "#winds=[line.split(\" -> \") for line in open(\"example_day5.txt\").read().strip().split('\\n')]\n",
    "        \n",
    "winds=[Wind(Coordinate(int(line[0].split(',')[0]),int(line[0].split(',')[1])),Coordinate(int(line[1].split(',')[0]),int(line[1].split(',')[1]))) for line in winds]     \n",
    "\n",
    "\n",
    "grid=np.zeros((max([max(wind.start_point.y,wind.end_point.y) for wind in winds])+1,max([max(wind.start_point.x,wind.end_point.x) for wind in winds])+1))\n",
    "\n",
    "test_wind1=Wind(Coordinate(0,35),Coordinate(0,13))\n",
    "ctr=0\n",
    "\n",
    "total_sum=0\n",
    "for wind in winds:\n",
    "    if wind.is_straight():\n",
    "        total_sum+=(abs(wind.start_point.x-wind.end_point.x)+abs(wind.start_point.y-wind.end_point.y)+1)\n",
    "        ctr+=1\n",
    "        for coord in wind.get_coords():\n",
    "            grid[coord.y,coord.x]+=1\n",
    "\n",
    "#print(grid)\n",
    "ans_a=len([val for val in grid.flatten() if val>1])\n",
    "#print(ans_a)\n",
    "    "
   ]
  },
  {
   "cell_type": "code",
   "execution_count": 94,
   "metadata": {},
   "outputs": [],
   "source": [
    "puzzle.answer_a = ans_a"
   ]
  },
  {
   "cell_type": "markdown",
   "metadata": {},
   "source": [
    "#### Part b"
   ]
  },
  {
   "cell_type": "code",
   "execution_count": 152,
   "metadata": {},
   "outputs": [
    {
     "name": "stdout",
     "output_type": "stream",
     "text": [
      "582 ms ± 26.5 ms per loop (mean ± std. dev. of 7 runs, 1 loop each)\n"
     ]
    }
   ],
   "source": [
    "ctr=0\n",
    "total_sum=0\n",
    "grid=np.zeros((max([max(wind.start_point.y,wind.end_point.y) for wind in winds])+1,max([max(wind.start_point.x,wind.end_point.x) for wind in winds])+1))\n",
    "for wind in winds:\n",
    "    total_sum+=(abs(wind.start_point.x-wind.end_point.x)+abs(wind.start_point.y-wind.end_point.y)+1)\n",
    "    ctr+=1\n",
    "    for coord in wind.get_coords():\n",
    "        grid[coord.y,coord.x]+=1\n",
    "ans_b=len([val for val in grid.flatten() if val>1])\n",
    "#print(ans_b)\n"
   ]
  },
  {
   "cell_type": "code",
   "execution_count": 136,
   "metadata": {},
   "outputs": [],
   "source": [
    "puzzle.answer_b = ans_b"
   ]
  },
  {
   "cell_type": "markdown",
   "metadata": {},
   "source": [
    "### Day 4"
   ]
  },
  {
   "cell_type": "code",
   "execution_count": 139,
   "metadata": {},
   "outputs": [],
   "source": [
    "puzzle=Puzzle(year=2021,day=4)\n",
    "#print(puzzle.easter_eggs)\n"
   ]
  },
  {
   "cell_type": "markdown",
   "metadata": {},
   "source": [
    "#### Part a"
   ]
  },
  {
   "cell_type": "code",
   "execution_count": 140,
   "metadata": {},
   "outputs": [
    {
     "name": "stdout",
     "output_type": "stream",
     "text": [
      "250 ms ± 4.01 ms per loop (mean ± std. dev. of 7 runs, 1 loop each)\n"
     ]
    }
   ],
   "source": [
    "input_data=puzzle.input_data.split('\\n\\n')\n",
    "\n",
    "drawn_numbers=[int(number) for number in input_data[0].split(',')]\n",
    "boards=input_data[1:]\n",
    "\n",
    "class bingo_board:\n",
    "    def __init__(self,list_of_numbers:str) -> None:\n",
    "        self.board_numbers=np.array([[int(number) for number in line.strip().split()] for line in list_of_numbers.split('\\n')])\n",
    "    \n",
    "    def check_row(self,id_row:int,list_of_numbers:tp.List[int]):\n",
    "        if all([number in list_of_numbers for number in self.board_numbers[id_row,:]]):\n",
    "            return True\n",
    "        else:\n",
    "            return False\n",
    "    def check_col(self,id_col:int,list_of_numbers:tp.List[int]):\n",
    "        self.board_numbers=np.transpose(self.board_numbers)\n",
    "        return_value=self.check_row(id_col,list_of_numbers)\n",
    "        self.board_numbers=np.transpose(self.board_numbers)\n",
    "        return return_value\n",
    "    \n",
    "    def check_win(self,list_of_numbers:tp.List[int]):\n",
    "        if any([self.check_col(idx,list_of_numbers) or self.check_row(idx,list_of_numbers) for idx in range(len(self.board_numbers))]):\n",
    "            return True\n",
    "        else:\n",
    "            return False\n",
    "\n",
    "boards=[bingo_board(board) for board in boards]\n",
    "\n",
    "def play_game_well(bingo_boards:tp.List[bingo_board],drawn_numbers:tp.List[int]):\n",
    "    for n_drawn in range(len(bingo_boards[0].board_numbers),len(drawn_numbers)):\n",
    "        for board in bingo_boards:\n",
    "            if(board.check_win(drawn_numbers[:n_drawn])):\n",
    "                return [board,n_drawn]\n",
    "\n",
    "\n",
    "[board,n_drawn]=play_game_well(boards,drawn_numbers)\n",
    "score=sum([number for number in  board.board_numbers.flat if not number in drawn_numbers[:n_drawn]])*drawn_numbers[n_drawn-1]\n",
    "ans_a=score\n",
    "#print(score)"
   ]
  },
  {
   "cell_type": "code",
   "execution_count": 141,
   "metadata": {},
   "outputs": [],
   "source": [
    "#puzzle.answer_a = ans_a"
   ]
  },
  {
   "cell_type": "markdown",
   "metadata": {},
   "source": [
    "#### Part b"
   ]
  },
  {
   "cell_type": "code",
   "execution_count": 142,
   "metadata": {},
   "outputs": [
    {
     "name": "stdout",
     "output_type": "stream",
     "text": [
      "1.02 s ± 22.9 ms per loop (mean ± std. dev. of 7 runs, 1 loop each)\n"
     ]
    }
   ],
   "source": [
    "def play_game_badly(bingo_boards:tp.List[bingo_board],drawn_numbers:tp.List[int]):\n",
    "    worst_n_drawn=0\n",
    "    for id_board,board in enumerate(bingo_boards):\n",
    "        [bad_board,n_win]=play_game_well([board],drawn_numbers)\n",
    "        if n_win>worst_n_drawn:\n",
    "            worst_n_drawn=n_win\n",
    "            worst_board=bad_board\n",
    "    return [worst_board,worst_n_drawn]\n",
    "\n",
    "[board,n_drawn]=play_game_badly(boards,drawn_numbers)\n",
    "score=sum([number for number in  board.board_numbers.flat if not number in drawn_numbers[:n_drawn]])*drawn_numbers[n_drawn-1]\n",
    "ans_b=score\n",
    "#print(score)"
   ]
  },
  {
   "cell_type": "code",
   "execution_count": 103,
   "metadata": {},
   "outputs": [
    {
     "name": "stdout",
     "output_type": "stream",
     "text": [
      "Part b already solved with same answer: 17435\n"
     ]
    }
   ],
   "source": [
    "#puzzle.answer_b = ans_b"
   ]
  },
  {
   "cell_type": "markdown",
   "metadata": {},
   "source": [
    "### Day 3"
   ]
  },
  {
   "cell_type": "code",
   "execution_count": 143,
   "metadata": {},
   "outputs": [],
   "source": [
    "puzzle=Puzzle(year=2021,day=3)\n",
    "#print(puzzle.easter_eggs)\n"
   ]
  },
  {
   "cell_type": "markdown",
   "metadata": {},
   "source": [
    "#### Part a"
   ]
  },
  {
   "cell_type": "code",
   "execution_count": 144,
   "metadata": {},
   "outputs": [
    {
     "name": "stdout",
     "output_type": "stream",
     "text": [
      "925 µs ± 37.6 µs per loop (mean ± std. dev. of 7 runs, 1000 loops each)\n"
     ]
    }
   ],
   "source": [
    "diagnostics=puzzle.input_data.strip().split('\\n')\n",
    "\n",
    "def most_common(diagnostics: tp.List[str],position:int) -> str:\n",
    "    all_bits=[diag[position] for diag in diagnostics]\n",
    "    return max(sorted(set(all_bits),reverse=True), key = all_bits.count)\n",
    "\n",
    "def least_common(diagnostics: tp.List[str],position:int) -> str:\n",
    "    return str(1-int(most_common(diagnostics,position)))\n",
    "\n",
    "gamma=\"\"\n",
    "for position in range(len(diagnostics[0])):\n",
    "    gamma+=most_common(diagnostics,position)\n",
    "\n",
    "gamma=int(gamma,2)\n",
    "\n",
    "\n",
    "#print(timeit.timeit(lambda: 2**(len(diagnostics[0]))-1-gamma,number=100000))\n",
    "epsilon=2**(len(diagnostics[0]))-1-gamma\n",
    "\n",
    "ans_a=gamma*epsilon\n",
    "#print(ans_a)"
   ]
  },
  {
   "cell_type": "markdown",
   "metadata": {},
   "source": [
    "#### Nao's solution for timeit"
   ]
  },
  {
   "cell_type": "code",
   "execution_count": 123,
   "metadata": {},
   "outputs": [],
   "source": [
    "#from collections import Counter\n",
    "#content = puzzle.input_data.split(\"\\n\")\n",
    "#def transpose(inlist: tp.Sequence[str]) -> tp.List[str]: \n",
    "#    return [\"\".join(s) for s in zip(*inlist)]\n",
    "#def bin2int(binary: tp.Union[str, tp.Sequence[str]]) -> int: \n",
    "#    if isinstance(binary, list): \n",
    "#        return int(\"\".join(binary),2)\n",
    "#    return int(binary, 2)\n",
    "#counters = [Counter(pos) for pos in transpose(content)]\n",
    "#gamma = [\"0\" if c[\"0\"]>c[\"1\"] else \"1\" for c in counters]\n",
    "#print(timeit.timeit(lambda:''.join(str(1-int(x)) for x in gamma)))\n",
    "#eps=''.join(str(1-int(x)) for x in gamma)\n",
    "#answ = bin2int(gamma) * bin2int(eps)\n",
    "#answ\n",
    "#submit(answ, part=\"a\", day=3, year=2021)\n"
   ]
  },
  {
   "cell_type": "code",
   "execution_count": 151,
   "metadata": {},
   "outputs": [],
   "source": [
    "#gamma=4\n",
    "#print(timeit.timeit(lambda: (~gamma & 0xFFFFFF),number=100000))"
   ]
  },
  {
   "cell_type": "code",
   "execution_count": 109,
   "metadata": {},
   "outputs": [],
   "source": [
    "#puzzle.answer_a = ans_a"
   ]
  },
  {
   "cell_type": "markdown",
   "metadata": {},
   "source": [
    "#### Part b"
   ]
  },
  {
   "cell_type": "code",
   "execution_count": 145,
   "metadata": {},
   "outputs": [
    {
     "name": "stdout",
     "output_type": "stream",
     "text": [
      "707 µs ± 17.2 µs per loop (mean ± std. dev. of 7 runs, 1000 loops each)\n"
     ]
    }
   ],
   "source": [
    "def keep_criteria(diagnostics: tp.List[str],position:int,criteria:int) -> tp.List[str]:\n",
    "    return list(filter(lambda x:x[position]==criteria,diagnostics))\n",
    "\n",
    "ctr_position=0\n",
    "oxygen=diagnostics\n",
    "CO2=diagnostics\n",
    "\n",
    "for position in range(len(diagnostics[0])):\n",
    "    new_oxygen=keep_criteria(oxygen,position,most_common(oxygen,position))\n",
    "    if len(new_oxygen)!=0:\n",
    "        oxygen=new_oxygen\n",
    "    new_CO2=keep_criteria(CO2,position,least_common(CO2,position))\n",
    "    if len(new_CO2)!=0:\n",
    "        CO2=new_CO2\n",
    "    ctr_position+=1\n",
    "oxygen=oxygen[0]\n",
    "CO2=CO2[0]\n",
    "\n",
    "ans_b=int(oxygen,2)*int(CO2,2)\n",
    "#print(ans_b)"
   ]
  },
  {
   "cell_type": "code",
   "execution_count": 112,
   "metadata": {},
   "outputs": [],
   "source": [
    "#puzzle.answer_b = ans_b"
   ]
  },
  {
   "cell_type": "markdown",
   "metadata": {},
   "source": [
    "### Day 2"
   ]
  },
  {
   "cell_type": "code",
   "execution_count": 3,
   "metadata": {},
   "outputs": [
    {
     "name": "stdout",
     "output_type": "stream",
     "text": [
      "[<span title=\"No, the Elf's name is not 'WOPR'. It's Joshua.\">would you like to play a game</span>]\n"
     ]
    }
   ],
   "source": [
    "puzzle=Puzzle(year=2023,day=2)\n",
    "print(puzzle.easter_eggs)\n"
   ]
  },
  {
   "cell_type": "markdown",
   "metadata": {},
   "source": [
    "#### Part a"
   ]
  },
  {
   "cell_type": "code",
   "execution_count": 18,
   "metadata": {},
   "outputs": [
    {
     "name": "stdout",
     "output_type": "stream",
     "text": [
      "2776\n"
     ]
    }
   ],
   "source": [
    "conditionPossible = {\"red\" : 12,\n",
    "                     \"green\" : 13,\n",
    "                     \"blue\" : 14\n",
    "                    }\n",
    "\n",
    "def checkValidity(game):\n",
    "    \n",
    "    samples = game.split(\";\")\n",
    "    minDice ={\"red\" : 0,\n",
    "              \"green\" : 0,\n",
    "              \"blue\" : 0\n",
    "                    }\n",
    "    for sample in samples:\n",
    "        colorSamples = sample.strip().split(\",\")\n",
    "        for colorSample in colorSamples:\n",
    "            [number, color] = colorSample.strip().split(\" \")\n",
    "            # part A\n",
    "            # if int(number) > conditionPossible[color]:\n",
    "            #     return False\n",
    "    \n",
    "            # part B\n",
    "            if int(number) > minDice[color]:\n",
    "                minDice[color] = int(number)\n",
    "            \n",
    "            \n",
    "    # return True\n",
    "    return minDice[\"red\"]*minDice[\"blue\"]*minDice[\"green\"]\n",
    "\n",
    "games = puzzle.input_data.strip().split(\"\\n\");\n",
    "\n",
    "sumOfIds = 0\n",
    "\n",
    "for game in games:\n",
    "\n",
    "    [name, game] = game.split(\":\")\n",
    "    # isValid = checkValidity(game.strip())\n",
    "    # if isValid:\n",
    "    #     sumOfIds += int(name.split(\" \")[1])\n",
    "    sumOfIds += checkValidity(game.strip())\n",
    "\n",
    "print(sumOfIds)\n",
    "\n",
    "    "
   ]
  },
  {
   "cell_type": "code",
   "execution_count": 19,
   "metadata": {},
   "outputs": [
    {
     "name": "stdout",
     "output_type": "stream",
     "text": [
      "\u001b[32mThat's the right answer!  You are one gold star closer to restoring snow operations. [Continue to Part Two]\u001b[0m\n"
     ]
    }
   ],
   "source": [
    "puzzle.answer_a = sumOfIds\n",
    "#submit(answer=ans_a,day=2,part=\"a\",year=2021)"
   ]
  },
  {
   "cell_type": "markdown",
   "metadata": {},
   "source": [
    "#### Part b"
   ]
  },
  {
   "cell_type": "code",
   "execution_count": 148,
   "metadata": {},
   "outputs": [
    {
     "name": "stdout",
     "output_type": "stream",
     "text": [
      "620 µs ± 34.3 µs per loop (mean ± std. dev. of 7 runs, 1000 loops each)\n"
     ]
    }
   ],
   "source": [
    "class submarine_pro(submarine):\n",
    "\n",
    "    def __init__(self,depth=0,hor_pos=0,aim=0):\n",
    "        super().__init__(depth,hor_pos)\n",
    "        self.aim=aim\n",
    "    \n",
    "    def movement(self,direction:str, amount:int):\n",
    "        if direction==\"up\":\n",
    "            self.aim-=amount\n",
    "        elif direction==\"down\":\n",
    "            self.aim+=amount\n",
    "        elif direction==\"forward\":\n",
    "            self.hor_pos+=amount\n",
    "            self.depth+=self.aim*amount\n",
    "        else:\n",
    "            raise Exception(\"going in an unknown direction\")\n",
    "\n",
    "            \n",
    "            \n",
    "cousteau=submarine_pro()\n",
    "\n",
    "movements=puzzle.input_data.strip().split('\\n')\n",
    "\n",
    "for trajectory in movements:\n",
    "    direction,amount=trajectory.split(' ')\n",
    "    cousteau.movement(direction,int(amount))\n",
    "\n",
    "ans_b=cousteau.depth*cousteau.hor_pos"
   ]
  },
  {
   "cell_type": "code",
   "execution_count": 118,
   "metadata": {},
   "outputs": [],
   "source": [
    "#puzzle.answer_b = ans_b"
   ]
  },
  {
   "cell_type": "markdown",
   "metadata": {},
   "source": [
    "### Day 1"
   ]
  },
  {
   "cell_type": "code",
   "execution_count": 7,
   "metadata": {},
   "outputs": [
    {
     "name": "stdout",
     "output_type": "stream",
     "text": [
      "[<span title=\"My hope is that this abomination of a run-on sentence somehow conveys the chaos of being hastily loaded into a trebuchet.\">and</span>]\n"
     ]
    }
   ],
   "source": [
    "puzzle=Puzzle(year=2023,day=1)\n",
    "print(puzzle.easter_eggs)"
   ]
  },
  {
   "cell_type": "code",
   "execution_count": 9,
   "metadata": {},
   "outputs": [],
   "source": [
    "numbers = {\n",
    "    'one': 1,\n",
    "    'two': 2,\n",
    "    'three': 3,\n",
    "    'four': 4,\n",
    "    'five': 5,\n",
    "    'six': 6,\n",
    "    'seven': 7,\n",
    "    'eight': 8,\n",
    "    'nine': 9,\n",
    "    '1': 1,\n",
    "    '2': 2,\n",
    "    '3': 3,\n",
    "    '4': 4,\n",
    "    '5': 5,\n",
    "    '6': 6,\n",
    "    '7': 7,\n",
    "    '8': 8,\n",
    "    '9': 9,\n",
    "}\n",
    "\n",
    "def firstAndLastDigit(sequence):\n",
    "    listOfDigits = []\n",
    "    for char in sequence:\n",
    "        if char.isdigit():\n",
    "            listOfDigits.append(char)\n",
    "\n",
    "    return int(listOfDigits[0]+listOfDigits[-1])\n",
    "\n",
    "def firstAndLastDigitSpelledOut(sequence):\n",
    "    firstDigit=0\n",
    "    lastDigit=0\n",
    "    firstIndex = len(sequence)+1\n",
    "    lastIndex = -1\n",
    "\n",
    "    for pattern in numbers:\n",
    "        \n",
    "        firstOccurence = sequence.find(pattern)\n",
    "        if firstOccurence != -1 and firstOccurence < firstIndex:\n",
    "            firstDigit = numbers[pattern]\n",
    "            firstIndex = firstOccurence\n",
    "        \n",
    "        lastOccurence = sequence.rfind(pattern)\n",
    "        if lastOccurence != -1 and lastOccurence > lastIndex:\n",
    "            lastDigit = numbers[pattern]\n",
    "            lastIndex = lastOccurence\n",
    "    return 10*firstDigit+lastDigit \n",
    "\n",
    "\n",
    "instructions=[seq for seq in puzzle.input_data.strip().split('\\n')]\n",
    "\n",
    "digit = re.search(r\"\\d\", instructions[0])\n",
    "\n",
    "\n",
    "result = 0\n",
    "for instruction in instructions:\n",
    "    result += firstAndLastDigitSpelledOut(instruction)\n",
    "    \n"
   ]
  },
  {
   "cell_type": "code",
   "execution_count": null,
   "metadata": {},
   "outputs": [],
   "source": [
    "# puzzle.answer_a = result\n",
    "puzzle.answer_b = result"
   ]
  }
 ],
 "metadata": {
  "kernelspec": {
   "display_name": "Python 3 (ipykernel)",
   "language": "python",
   "name": "python3"
  },
  "language_info": {
   "codemirror_mode": {
    "name": "ipython",
    "version": 3
   },
   "file_extension": ".py",
   "mimetype": "text/x-python",
   "name": "python",
   "nbconvert_exporter": "python",
   "pygments_lexer": "ipython3",
   "version": "3.8.10"
  }
 },
 "nbformat": 4,
 "nbformat_minor": 4
}
