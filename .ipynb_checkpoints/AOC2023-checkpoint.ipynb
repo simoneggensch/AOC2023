{
 "cells": [
  {
   "cell_type": "markdown",
   "metadata": {},
   "source": [
    "## Advent of code 2023"
   ]
  },
  {
   "cell_type": "code",
   "execution_count": null,
   "metadata": {},
   "outputs": [],
   "source": [
    "#pip install aocd"
   ]
  },
  {
   "cell_type": "code",
   "execution_count": 72,
   "metadata": {},
   "outputs": [],
   "source": [
    "### imports\n",
    "\n",
    "from aocd import submit\n",
    "from aocd.models import Puzzle\n",
    "import os\n",
    "import numpy as np\n",
    "import re\n",
    "import math\n",
    "import struct\n",
    "from enum import Enum\n",
    "from collections import Counter, defaultdict\n",
    "os.environ[\"AOC_SESSION\"]=\"53616c7465645f5f758c99d24081ffad2fcf5cbd91464a34dbbff6365ee265c49647f5fc31927f60daa37ac129107458fc661b911273336aa557a7e32e41dd75\""
   ]
  },
  {
   "cell_type": "markdown",
   "metadata": {},
   "source": [
    "### Day 25"
   ]
  },
  {
   "cell_type": "code",
   "execution_count": null,
   "metadata": {},
   "outputs": [],
   "source": [
    "puzzle=Puzzle(year=2023,day=25)\n",
    "#print(puzzle.easter_eggs)\n"
   ]
  },
  {
   "cell_type": "markdown",
   "metadata": {},
   "source": [
    "#### Part a"
   ]
  },
  {
   "cell_type": "code",
   "execution_count": null,
   "metadata": {},
   "outputs": [],
   "source": []
  },
  {
   "cell_type": "code",
   "execution_count": null,
   "metadata": {},
   "outputs": [],
   "source": [
    "#puzzle.answer_a = ans_a"
   ]
  },
  {
   "cell_type": "markdown",
   "metadata": {},
   "source": [
    "### Day 24"
   ]
  },
  {
   "cell_type": "code",
   "execution_count": null,
   "metadata": {},
   "outputs": [],
   "source": [
    "puzzle=Puzzle(year=2023,day=24)\n",
    "#print(puzzle.easter_eggs)\n"
   ]
  },
  {
   "cell_type": "markdown",
   "metadata": {},
   "source": [
    "#### Part a"
   ]
  },
  {
   "cell_type": "code",
   "execution_count": null,
   "metadata": {},
   "outputs": [],
   "source": []
  },
  {
   "cell_type": "code",
   "execution_count": null,
   "metadata": {},
   "outputs": [],
   "source": [
    "#puzzle.answer_a = ans_a"
   ]
  },
  {
   "cell_type": "markdown",
   "metadata": {},
   "source": [
    "### Day 23"
   ]
  },
  {
   "cell_type": "code",
   "execution_count": null,
   "metadata": {},
   "outputs": [],
   "source": [
    "puzzle=Puzzle(year=2023,day=23)\n",
    "#print(puzzle.easter_eggs)\n"
   ]
  },
  {
   "cell_type": "markdown",
   "metadata": {},
   "source": [
    "#### Part a"
   ]
  },
  {
   "cell_type": "code",
   "execution_count": null,
   "metadata": {},
   "outputs": [],
   "source": []
  },
  {
   "cell_type": "code",
   "execution_count": null,
   "metadata": {},
   "outputs": [],
   "source": [
    "#puzzle.answer_a = ans_a"
   ]
  },
  {
   "cell_type": "markdown",
   "metadata": {},
   "source": [
    "### Day 22"
   ]
  },
  {
   "cell_type": "code",
   "execution_count": null,
   "metadata": {},
   "outputs": [],
   "source": [
    "puzzle=Puzzle(year=2023,day=22)\n",
    "#print(puzzle.easter_eggs)\n"
   ]
  },
  {
   "cell_type": "markdown",
   "metadata": {},
   "source": [
    "#### Part a"
   ]
  },
  {
   "cell_type": "code",
   "execution_count": null,
   "metadata": {},
   "outputs": [],
   "source": []
  },
  {
   "cell_type": "code",
   "execution_count": null,
   "metadata": {},
   "outputs": [],
   "source": [
    "#puzzle.answer_a = ans_a"
   ]
  },
  {
   "cell_type": "markdown",
   "metadata": {},
   "source": [
    "### Day 21"
   ]
  },
  {
   "cell_type": "code",
   "execution_count": null,
   "metadata": {},
   "outputs": [],
   "source": [
    "puzzle=Puzzle(year=2023,day=21)\n",
    "#print(puzzle.easter_eggs)\n"
   ]
  },
  {
   "cell_type": "markdown",
   "metadata": {},
   "source": [
    "#### Part a"
   ]
  },
  {
   "cell_type": "code",
   "execution_count": null,
   "metadata": {},
   "outputs": [],
   "source": []
  },
  {
   "cell_type": "code",
   "execution_count": null,
   "metadata": {},
   "outputs": [],
   "source": [
    "#puzzle.answer_a = ans_a"
   ]
  },
  {
   "cell_type": "markdown",
   "metadata": {},
   "source": [
    "#### Part b"
   ]
  },
  {
   "cell_type": "code",
   "execution_count": null,
   "metadata": {},
   "outputs": [],
   "source": []
  },
  {
   "cell_type": "code",
   "execution_count": null,
   "metadata": {},
   "outputs": [],
   "source": [
    "#puzzle.answer_b = ans_b"
   ]
  },
  {
   "cell_type": "markdown",
   "metadata": {},
   "source": [
    "### Day 20"
   ]
  },
  {
   "cell_type": "code",
   "execution_count": 4,
   "metadata": {},
   "outputs": [],
   "source": [
    "puzzle=Puzzle(year=2023,day=20)\n",
    "#print(puzzle.easter_eggs)\n"
   ]
  },
  {
   "cell_type": "markdown",
   "metadata": {},
   "source": [
    "#### Part a"
   ]
  },
  {
   "cell_type": "code",
   "execution_count": 49,
   "metadata": {},
   "outputs": [
    {
     "name": "stdout",
     "output_type": "stream",
     "text": [
      "5395 17584\n"
     ]
    }
   ],
   "source": []
  },
  {
   "cell_type": "code",
   "execution_count": 39,
   "metadata": {},
   "outputs": [
    {
     "name": "stdout",
     "output_type": "stream",
     "text": [
      "\u001b[32mThat's the right answer!  You are one gold star closer to finding the sleigh keys. [Continue to Part Two]\u001b[0m\n"
     ]
    }
   ],
   "source": [
    "puzzle.answer_a = ans_a"
   ]
  },
  {
   "cell_type": "markdown",
   "metadata": {},
   "source": [
    "### Day 19"
   ]
  },
  {
   "cell_type": "code",
   "execution_count": 51,
   "metadata": {},
   "outputs": [],
   "source": [
    "puzzle=Puzzle(year=2023,day=19)\n",
    "#print(puzzle.easter_eggs)\n"
   ]
  },
  {
   "cell_type": "markdown",
   "metadata": {},
   "source": [
    "#### Part a"
   ]
  },
  {
   "cell_type": "code",
   "execution_count": null,
   "metadata": {},
   "outputs": [],
   "source": []
  },
  {
   "cell_type": "code",
   "execution_count": null,
   "metadata": {},
   "outputs": [],
   "source": [
    "#puzzle.answer_a = ans_a"
   ]
  },
  {
   "cell_type": "markdown",
   "metadata": {},
   "source": [
    "#### Part b"
   ]
  },
  {
   "cell_type": "code",
   "execution_count": null,
   "metadata": {},
   "outputs": [],
   "source": []
  },
  {
   "cell_type": "code",
   "execution_count": null,
   "metadata": {},
   "outputs": [],
   "source": [
    "#puzzle.answer_b = ans_b"
   ]
  },
  {
   "cell_type": "markdown",
   "metadata": {},
   "source": [
    "### Day 18"
   ]
  },
  {
   "cell_type": "code",
   "execution_count": 161,
   "metadata": {},
   "outputs": [],
   "source": [
    "puzzle=Puzzle(year=2023,day=18)\n",
    "#print(puzzle.easter_eggs)\n"
   ]
  },
  {
   "cell_type": "markdown",
   "metadata": {},
   "source": [
    "#### Part a"
   ]
  },
  {
   "cell_type": "code",
   "execution_count": null,
   "metadata": {},
   "outputs": [],
   "source": []
  },
  {
   "cell_type": "code",
   "execution_count": 163,
   "metadata": {},
   "outputs": [],
   "source": [
    "puzzle.answer_a = ans_a"
   ]
  },
  {
   "cell_type": "markdown",
   "metadata": {},
   "source": [
    "### Day 17"
   ]
  },
  {
   "cell_type": "code",
   "execution_count": 166,
   "metadata": {},
   "outputs": [],
   "source": [
    "puzzle=Puzzle(year=2023,day=17)\n",
    "#print(puzzle.easter_eggs)\n"
   ]
  },
  {
   "cell_type": "markdown",
   "metadata": {},
   "source": [
    "#### Part a"
   ]
  },
  {
   "cell_type": "code",
   "execution_count": null,
   "metadata": {},
   "outputs": [],
   "source": []
  },
  {
   "cell_type": "code",
   "execution_count": 168,
   "metadata": {},
   "outputs": [],
   "source": [
    "puzzle.answer_a = ans_a"
   ]
  },
  {
   "cell_type": "code",
   "execution_count": 170,
   "metadata": {},
   "outputs": [],
   "source": [
    "puzzle.answer_b = ans_b"
   ]
  },
  {
   "cell_type": "markdown",
   "metadata": {},
   "source": [
    "### Day 16"
   ]
  },
  {
   "cell_type": "code",
   "execution_count": 171,
   "metadata": {},
   "outputs": [],
   "source": [
    "puzzle=Puzzle(year=2023,day=16)\n",
    "#print(puzzle.easter_eggs)\n"
   ]
  },
  {
   "cell_type": "markdown",
   "metadata": {},
   "source": [
    "#### Part a"
   ]
  },
  {
   "cell_type": "code",
   "execution_count": null,
   "metadata": {},
   "outputs": [],
   "source": []
  },
  {
   "cell_type": "code",
   "execution_count": 50,
   "metadata": {},
   "outputs": [],
   "source": [
    "#puzzle.answer_a = ans_a"
   ]
  },
  {
   "cell_type": "markdown",
   "metadata": {},
   "source": [
    "### Day 15"
   ]
  },
  {
   "cell_type": "code",
   "execution_count": 184,
   "metadata": {},
   "outputs": [],
   "source": [
    "puzzle=Puzzle(year=2023,day=15)\n",
    "#print(puzzle.easter_eggs)"
   ]
  },
  {
   "cell_type": "markdown",
   "metadata": {},
   "source": [
    "#### Part a"
   ]
  },
  {
   "cell_type": "code",
   "execution_count": null,
   "metadata": {},
   "outputs": [],
   "source": []
  },
  {
   "cell_type": "code",
   "execution_count": 186,
   "metadata": {},
   "outputs": [],
   "source": [
    "#puzzle.answer_a = ans_a"
   ]
  },
  {
   "cell_type": "markdown",
   "metadata": {},
   "source": [
    "### Day 14"
   ]
  },
  {
   "cell_type": "code",
   "execution_count": 191,
   "metadata": {},
   "outputs": [],
   "source": [
    "puzzle=Puzzle(year=2023,day=14)\n",
    "#print(puzzle.easter_eggs)\n"
   ]
  },
  {
   "cell_type": "markdown",
   "metadata": {},
   "source": [
    "#### Part a"
   ]
  },
  {
   "cell_type": "code",
   "execution_count": null,
   "metadata": {},
   "outputs": [],
   "source": []
  },
  {
   "cell_type": "code",
   "execution_count": 190,
   "metadata": {},
   "outputs": [],
   "source": [
    "#puzzle.answer_a = ans_a"
   ]
  },
  {
   "cell_type": "markdown",
   "metadata": {},
   "source": [
    "### Day 13"
   ]
  },
  {
   "cell_type": "code",
   "execution_count": 188,
   "metadata": {},
   "outputs": [],
   "source": [
    "puzzle=Puzzle(year=2023,day=13)\n",
    "#print(puzzle.easter_eggs)\n"
   ]
  },
  {
   "cell_type": "markdown",
   "metadata": {},
   "source": [
    "#### Part a"
   ]
  },
  {
   "cell_type": "code",
   "execution_count": null,
   "metadata": {},
   "outputs": [],
   "source": []
  },
  {
   "cell_type": "code",
   "execution_count": 187,
   "metadata": {},
   "outputs": [],
   "source": [
    "#puzzle.answer_a = ans_a"
   ]
  },
  {
   "cell_type": "markdown",
   "metadata": {},
   "source": [
    "### Day 12"
   ]
  },
  {
   "cell_type": "code",
   "execution_count": 181,
   "metadata": {},
   "outputs": [],
   "source": [
    "puzzle=Puzzle(year=2023,day=12)\n",
    "#print(puzzle.easter_eggs)\n"
   ]
  },
  {
   "cell_type": "markdown",
   "metadata": {},
   "source": [
    "#### Part a"
   ]
  },
  {
   "cell_type": "code",
   "execution_count": 183,
   "metadata": {},
   "outputs": [
    {
     "name": "stdout",
     "output_type": "stream",
     "text": [
      "12.3 ms ± 477 µs per loop (mean ± std. dev. of 7 runs, 100 loops each)\n"
     ]
    }
   ],
   "source": []
  },
  {
   "cell_type": "code",
   "execution_count": 19,
   "metadata": {},
   "outputs": [],
   "source": [
    "#puzzle.answer_a = ans_a"
   ]
  },
  {
   "cell_type": "markdown",
   "metadata": {},
   "source": [
    "### Day 11"
   ]
  },
  {
   "cell_type": "code",
   "execution_count": 176,
   "metadata": {},
   "outputs": [],
   "source": [
    "puzzle=Puzzle(year=2023,day=11)\n",
    "#print(puzzle.easter_eggs)\n"
   ]
  },
  {
   "cell_type": "markdown",
   "metadata": {},
   "source": [
    "#### Part a"
   ]
  },
  {
   "cell_type": "code",
   "execution_count": 178,
   "metadata": {},
   "outputs": [
    {
     "name": "stdout",
     "output_type": "stream",
     "text": [
      "12.2 ms ± 722 µs per loop (mean ± std. dev. of 7 runs, 100 loops each)\n"
     ]
    }
   ],
   "source": []
  },
  {
   "cell_type": "code",
   "execution_count": 179,
   "metadata": {},
   "outputs": [],
   "source": [
    "#puzzle.answer_a = ans_a"
   ]
  },
  {
   "cell_type": "markdown",
   "metadata": {},
   "source": [
    "### Day 10"
   ]
  },
  {
   "cell_type": "code",
   "execution_count": 96,
   "metadata": {},
   "outputs": [],
   "source": [
    "puzzle=Puzzle(year=2023,day=10)\n",
    "#print(puzzle.easter_eggs)\n"
   ]
  },
  {
   "cell_type": "markdown",
   "metadata": {},
   "source": [
    "#### Part a"
   ]
  },
  {
   "cell_type": "code",
   "execution_count": null,
   "metadata": {},
   "outputs": [],
   "source": []
  },
  {
   "cell_type": "code",
   "execution_count": 97,
   "metadata": {},
   "outputs": [],
   "source": [
    "#puzzle.answer_a = ans_a"
   ]
  },
  {
   "cell_type": "markdown",
   "metadata": {},
   "source": [
    "### Day 9"
   ]
  },
  {
   "cell_type": "code",
   "execution_count": 168,
   "metadata": {},
   "outputs": [],
   "source": [
    "puzzle=Puzzle(year=2023,day=9)"
   ]
  },
  {
   "cell_type": "markdown",
   "metadata": {},
   "source": [
    "#### Part a"
   ]
  },
  {
   "cell_type": "code",
   "execution_count": null,
   "metadata": {},
   "outputs": [],
   "source": []
  },
  {
   "cell_type": "code",
   "execution_count": 89,
   "metadata": {},
   "outputs": [],
   "source": [
    "#puzzle.answer_a = ans_a"
   ]
  },
  {
   "cell_type": "markdown",
   "metadata": {},
   "source": [
    "### Day 8"
   ]
  },
  {
   "cell_type": "code",
   "execution_count": 90,
   "metadata": {},
   "outputs": [],
   "source": [
    "puzzle=Puzzle(year=2023,day=8)\n",
    "#print(puzzle.easter_eggs)\n"
   ]
  },
  {
   "cell_type": "markdown",
   "metadata": {},
   "source": [
    "#### Part a"
   ]
  },
  {
   "cell_type": "code",
   "execution_count": null,
   "metadata": {},
   "outputs": [],
   "source": []
  },
  {
   "cell_type": "code",
   "execution_count": 91,
   "metadata": {},
   "outputs": [],
   "source": [
    "#puzzle.answer_a = ans_a"
   ]
  },
  {
   "cell_type": "markdown",
   "metadata": {},
   "source": [
    "### Day 7"
   ]
  },
  {
   "cell_type": "code",
   "execution_count": 66,
   "metadata": {},
   "outputs": [],
   "source": [
    "puzzle=Puzzle(year=2023,day=7)\n",
    "#print(puzzle.easter_eggs)\n"
   ]
  },
  {
   "cell_type": "markdown",
   "metadata": {},
   "source": [
    "#### Part a"
   ]
  },
  {
   "cell_type": "code",
   "execution_count": 116,
   "metadata": {},
   "outputs": [
    {
     "name": "stdout",
     "output_type": "stream",
     "text": [
      "251058093\n"
     ]
    }
   ],
   "source": [
    "class Hand(Enum):\n",
    "    FIVEOFAKIND = 7\n",
    "    FOUROFAKIND = 6\n",
    "    FULLHOUSE = 5\n",
    "    THREEOFAKIND = 4\n",
    "    TWOPAIR = 3\n",
    "    PAIR = 2\n",
    "    HIGHCARD = 1\n",
    "\n",
    "class Card(Enum):\n",
    "    A = 5\n",
    "    K = 4\n",
    "    Q = 3\n",
    "    J = 2\n",
    "    T = 1\n",
    "\n",
    "\n",
    "\n",
    "\n",
    "def defineHand(hand):\n",
    "    handCounter = Counter([letter for letter in hand])\n",
    "    if len(handCounter) == 1:\n",
    "        return Hand.FIVEOFAKIND\n",
    "    if len(handCounter) == 5:\n",
    "        return Hand.HIGHCARD\n",
    "    if len(handCounter) == 2:\n",
    "        if handCounter.most_common()[0][1] == 4:\n",
    "            return Hand.FOUROFAKIND\n",
    "        else:\n",
    "            return Hand.FULLHOUSE\n",
    "    if len(handCounter) == 4:\n",
    "        return Hand.PAIR\n",
    "    if len(handCounter) == 3:\n",
    "        if handCounter.most_common()[0][1] == 3:\n",
    "            return Hand.THREEOFAKIND\n",
    "        else:\n",
    "            return Hand.TWOPAIR\n",
    "    \n",
    "\n",
    "def compareValues(hand1, hand2):\n",
    "    for card1, card2 in zip(hand1, hand2):\n",
    "        if card1 != card2:\n",
    "            if card1.isdigit() and card2.isdigit():\n",
    "                return card1 > card2\n",
    "            if card1.isdigit():\n",
    "                return False\n",
    "            if card2.isdigit():\n",
    "                return True\n",
    "            else:\n",
    "                return Card[card1].value > Card[card2].value\n",
    "                \n",
    "\n",
    "def isHand1Bigger(hand1, hand2):\n",
    "    hand1value = defineHand(hand1)\n",
    "    hand2value = defineHand(hand2)\n",
    "    \n",
    "    if hand1value.value > hand2value.value:\n",
    "        return True\n",
    "    if hand2value.value > hand1value.value:\n",
    "        return False\n",
    "    return compareValues(hand1, hand2)\n",
    "\n",
    "input_data = puzzle.input_data.strip().split('\\n')\n",
    "# input_data = open(\"testData/example7.txt\").read().split('\\n')\n",
    "\n",
    "def customSort(handList):\n",
    "    for i in range(len(handList)):\n",
    "        for j in range(i+1, len(handList)):\n",
    "            if isHand1Bigger(handList[i][:5], handList[j][:5]):\n",
    "                tmpHand = handList[i]\n",
    "                handList[i] = handList[j]\n",
    "                handList[j] = tmpHand\n",
    "    return handList\n",
    "\n",
    "sortedList = customSort(input_data)\n",
    "\n",
    "score = 0\n",
    "for rank, hand in enumerate(sortedList):\n",
    "    score += (rank+1) * int(hand[6:])\n",
    "\n",
    "print(score)"
   ]
  },
  {
   "cell_type": "code",
   "execution_count": 117,
   "metadata": {},
   "outputs": [
    {
     "name": "stdout",
     "output_type": "stream",
     "text": [
      "\u001b[32mThat's the right answer!  You are one gold star closer to restoring snow operations. [Continue to Part Two]\u001b[0m\n"
     ]
    }
   ],
   "source": [
    "puzzle.answer_a = score"
   ]
  },
  {
   "cell_type": "code",
   "execution_count": 118,
   "metadata": {},
   "outputs": [],
   "source": [
    "#### part b"
   ]
  },
  {
   "cell_type": "code",
   "execution_count": 119,
   "metadata": {},
   "outputs": [],
   "source": [
    "class Card(Enum):\n",
    "    A = 5\n",
    "    K = 4\n",
    "    Q = 3\n",
    "    T = 1\n",
    "\n",
    "allcards = [\"A\", \"K\", \"Q\", \"T\", \"9\", \"8\", \"7\", \"6\", \"5\", \"4\", \"3\", \"2\", \"J\"]\n",
    "\n",
    "\n",
    "def defineHandJoker(hand):\n",
    "    handCounter = Counter([letter for letter in hand])\n",
    "    if \"J\" in hand:\n",
    "        hand.replaceall(\"J\", handCounter.most_common()[0][0])\n",
    "    if len(handCounter) == 1:\n",
    "        return Hand.FIVEOFAKIND\n",
    "    if len(handCounter) == 5:\n",
    "        return Hand.HIGHCARD\n",
    "    if len(handCounter) == 2:\n",
    "        if handCounter.most_common()[0][1] == 4:\n",
    "            return Hand.FOUROFAKIND\n",
    "        else:\n",
    "            return Hand.FULLHOUSE\n",
    "    if len(handCounter) == 4:\n",
    "        return Hand.PAIR\n",
    "    if len(handCounter) == 3:\n",
    "        if handCounter.most_common()[0][1] == 3:\n",
    "            return Hand.THREEOFAKIND\n",
    "        else:\n",
    "            return Hand.TWOPAIR\n",
    "\n",
    "\n",
    "\n",
    "def compareValuesJoker(hand1, hand2):\n",
    "    for card1, card2 in zip(hand1, hand2):\n",
    "        if card1 != card2:\n",
    "            if card1 == \"J\":\n",
    "                return False\n",
    "            if card2 == \"J\":\n",
    "                return True\n",
    "            if card1.isdigit() and card2.isdigit():\n",
    "                return card1 > card2\n",
    "            if card1.isdigit():\n",
    "                return False\n",
    "            if card2.isdigit():\n",
    "                return True\n",
    "            else:\n",
    "                return Card[card1].value > Card[card2].value"
   ]
  },
  {
   "cell_type": "markdown",
   "metadata": {},
   "source": [
    "### Day 6"
   ]
  },
  {
   "cell_type": "code",
   "execution_count": 24,
   "metadata": {},
   "outputs": [],
   "source": [
    "puzzle=Puzzle(year=2023,day=6)\n",
    "#print(puzzle.easter_eggs)\n"
   ]
  },
  {
   "cell_type": "markdown",
   "metadata": {},
   "source": [
    "#### Part a"
   ]
  },
  {
   "cell_type": "code",
   "execution_count": 33,
   "metadata": {},
   "outputs": [],
   "source": [
    "[times, distances] = [list(map(int, line.strip().split(\":\")[1].strip().split())) for line in puzzle.input_data.strip().split('\\n')]\n",
    "\n",
    "totalScore = 1\n",
    "for time, distance in zip(times, distances):\n",
    "    success = 0\n",
    "    for attempt in range(time):\n",
    "        if attempt * (time-attempt) > distance:\n",
    "            success+=1\n",
    "    totalScore*=success"
   ]
  },
  {
   "cell_type": "code",
   "execution_count": 34,
   "metadata": {},
   "outputs": [
    {
     "name": "stdout",
     "output_type": "stream",
     "text": [
      "\u001b[32mThat's the right answer!  You are one gold star closer to restoring snow operations. [Continue to Part Two]\u001b[0m\n"
     ]
    }
   ],
   "source": [
    "puzzle.answer_a = totalScore"
   ]
  },
  {
   "cell_type": "code",
   "execution_count": 36,
   "metadata": {},
   "outputs": [],
   "source": [
    "#### part b"
   ]
  },
  {
   "cell_type": "code",
   "execution_count": 42,
   "metadata": {},
   "outputs": [
    {
     "name": "stdout",
     "output_type": "stream",
     "text": [
      "45128024\n"
     ]
    }
   ],
   "source": [
    "[time, distance] = list(map(int,[''.join(line.strip().split(\":\")[1].strip().split()) for line in puzzle.input_data.strip().split('\\n')]))\n",
    "\n",
    "success = 0\n",
    "for attempt in range(time):\n",
    "    if attempt * (time-attempt) > distance:\n",
    "        success+=1\n",
    "print(success)\n"
   ]
  },
  {
   "cell_type": "code",
   "execution_count": 43,
   "metadata": {},
   "outputs": [
    {
     "name": "stdout",
     "output_type": "stream",
     "text": [
      "\u001b[32mThat's the right answer!  You are one gold star closer to restoring snow operations.You have completed Day 6! You can [Shareon\n",
      "  Twitter\n",
      "Mastodon] this victory or [Return to Your Advent Calendar].\u001b[0m\n"
     ]
    }
   ],
   "source": [
    "puzzle.answer_b = success"
   ]
  },
  {
   "cell_type": "markdown",
   "metadata": {},
   "source": [
    "### Day 5"
   ]
  },
  {
   "cell_type": "code",
   "execution_count": 50,
   "metadata": {},
   "outputs": [],
   "source": [
    "puzzle=Puzzle(year=2023,day=5)\n",
    "#print(puzzle.easter_eggs)\n"
   ]
  },
  {
   "cell_type": "markdown",
   "metadata": {},
   "source": [
    "#### Part a"
   ]
  },
  {
   "cell_type": "code",
   "execution_count": 16,
   "metadata": {},
   "outputs": [],
   "source": [
    "input_data = puzzle.input_data.strip().split('\\n\\n')\n",
    "\n",
    "def findTransformation(listOfTransformations, seed):\n",
    "    for transformation in listOfTransformations[1:]:\n",
    "        [destinationStart, sourceStart, totalRange] = list(map(int,transformation.split(' ')))\n",
    "        if sourceStart <= seed <= sourceStart + totalRange -1:\n",
    "            return destinationStart + seed - sourceStart\n",
    "    return seed\n",
    "seeds = list(map(int, input_data[0].strip().split(' ')[1:]))\n",
    "transformations = input_data[1:]\n",
    "\n",
    "\n",
    "\n",
    "transformationMaps = []\n",
    "\n",
    "lowestSeed = 0\n",
    "lowestLocation = math.inf\n",
    "for seed in seeds:\n",
    "    newSeed = seed\n",
    "    for transformation in transformations:\n",
    "        newSeed = findTransformation(transformation.strip().split('\\n'), newSeed)\n",
    "\n",
    "    if newSeed < lowestLocation:\n",
    "        lowestLocation = newSeed\n",
    "        lowestSeed = seed\n",
    "\n"
   ]
  },
  {
   "cell_type": "code",
   "execution_count": 19,
   "metadata": {},
   "outputs": [],
   "source": [
    "puzzle.answer_a = lowestLocation"
   ]
  },
  {
   "cell_type": "code",
   "execution_count": 15,
   "metadata": {},
   "outputs": [],
   "source": [
    "#### Part b"
   ]
  },
  {
   "cell_type": "code",
   "execution_count": 65,
   "metadata": {},
   "outputs": [],
   "source": [
    "input_data = puzzle.input_data.strip().split('\\n\\n')\n",
    "\n",
    "class FieldRow:\n",
    "    def __init__(self, start:int, distance:int) -> None: \n",
    "        self.start = start;\n",
    "        self.distance = distance;\n",
    "\n",
    "class Field:\n",
    "    def __init__(self, rows):\n",
    "        self.rows = rows;\n",
    "    \n",
    "    def applyTransformation(self, sourceStart, destStart, length):\n",
    "        newRows = []\n",
    "        for row in rows:\n",
    "            originalStart = row.start\n",
    "            originalDistance = row.distance\n",
    "            originalEnd = row.start + row.distance - 1\n",
    "            transformationEnd = sourceStart + length -1\n",
    "            \n",
    "            if sourceStart <= originalStart <= transformationEnd:\n",
    "                newRow = FieldRow(destStart-sourceStart+originalStart, originalDistance)\n",
    "                if originalEnd > transformationEnd:\n",
    "                    newRow.distance = length - originalStart + sourceStart\n",
    "                    newRows.append(Field(sourceStart+length, originalDistance - row.distance))\n",
    "                newRow.start = destStart-sourceStart+originalStart\n",
    "                newRows.append(newRow)\n",
    "            elif sourceStart <= originalStart + originalDistance - 1:\n",
    "                if originalStart + originalDistance < sourceStart + length:\n",
    "                    newRow = FieldRow(originalStart, originalDistance)\n",
    "                    newRow.distance = sourceStart - originalStart\n",
    "                    newRows.append(FieldRow(sourceStart, originalDistance - row.distance))\n",
    "                elif \n",
    "            elif \n",
    "        return newRows\n",
    "                \n",
    "                    \n",
    "\n",
    "def findTransformation(listOfTransformations, seed):\n",
    "    for transformation in listOfTransformations[1:]:\n",
    "        [destinationStart, sourceStart, totalRange] = list(map(int,transformation.split(' ')))\n",
    "        if sourceStart <= seed <= sourceStart + totalRange -1:\n",
    "            return destinationStart + seed - sourceStart\n",
    "    return seed\n",
    "    \n",
    "seeds = list(map(int, input_data[0].strip().split(' ')[1:]))\n",
    "transformations = input_data[1:]\n",
    "startingSeeds = Field([FieldRow(seeds[k], seeds[k+1]) for k in range(len(seeds)//2)])\n",
    "\n",
    "for transformation in transformations:\n",
    "    for singleTransformation in transformation.split('\\n')[1:]:\n",
    "        [sourceStart, destStart, length] = list(map(int, singleTransformation.split()))\n",
    "        # seeds.applyTransformation(singleTransformation)\n",
    "    \n",
    "#     for seedDelta in range(seeds[k+1]):\n",
    "#         if seedDelta%100000 == 0:\n",
    "#             print(seedDelta)\n",
    "#         newSeed = seeds[k] + seedDelta\n",
    "#         for transformation in transformations:\n",
    "#             newSeed = findTransformation(transformation.strip().split('\\n'), newSeed)\n",
    "    \n",
    "#         if newSeed < lowestLocation:\n",
    "#             lowestLocation = newSeed\n",
    "#             lowestSeed = seeds[k] + seedDelta\n",
    "#     k+=2\n",
    "\n"
   ]
  },
  {
   "cell_type": "markdown",
   "metadata": {},
   "source": [
    "### Day 4"
   ]
  },
  {
   "cell_type": "code",
   "execution_count": 56,
   "metadata": {},
   "outputs": [],
   "source": [
    "puzzle=Puzzle(year=2023,day=4)\n",
    "#print(puzzle.easter_eggs)\n"
   ]
  },
  {
   "cell_type": "markdown",
   "metadata": {},
   "source": [
    "#### Part a"
   ]
  },
  {
   "cell_type": "code",
   "execution_count": 87,
   "metadata": {},
   "outputs": [
    {
     "name": "stdout",
     "output_type": "stream",
     "text": [
      "5554894\n",
      "5554894\n"
     ]
    }
   ],
   "source": [
    "input_data=puzzle.input_data.split('\\n')\n",
    "# input_data=open(\"testData/example4.txt\").read().split('\\n')\n",
    "\n",
    "def calculateScoreOneticket(ticket):\n",
    "    ticketScore = 0\n",
    "    [gametitle, numbers] = ticket.split(\":\")\n",
    "    [winningNumbers, playedNumbers] = numbers.split(\"|\")\n",
    "    winningNumbers = list(filter(None, winningNumbers.strip().split(\" \")))\n",
    "    playedNumbers = list(filter(None, playedNumbers.strip().split(\" \")))\n",
    "    nbWinningNumbers = 0\n",
    "    for number in playedNumbers:\n",
    "        if number in winningNumbers:\n",
    "            nbWinningNumbers+=1\n",
    "    # part a\n",
    "    # if nbWinningNumbers > 0:\n",
    "    #     return 2**(nbWinningNumbers-1)\n",
    "    # return 0\n",
    "    return nbWinningNumbers\n",
    "\n",
    "winningScore = 0\n",
    "dictScore = defaultdict(lambda: 0)\n",
    "nTickets = {}\n",
    "\n",
    "for nTicket, ticket in enumerate(input_data):\n",
    "    # part a\n",
    "    # winningScore+=calculateScoreOneticket(ticket)\n",
    "    dictScore[nTicket] = calculateScoreOneticket(ticket)\n",
    "    nTickets[nTicket] = 1\n",
    "    \n",
    "for val in dictScore:\n",
    "    for i in range(dictScore[val]):\n",
    "        nTickets[val + i + 1]+=nTickets[val]\n",
    "\n",
    "print(sum(nTickets.values()))\n",
    "# print(dictScore)\n",
    "# print(nTickets)\n",
    "winningScore = sum(nTickets.values())    \n",
    "print(winningScore)\n"
   ]
  },
  {
   "cell_type": "code",
   "execution_count": 88,
   "metadata": {},
   "outputs": [
    {
     "name": "stdout",
     "output_type": "stream",
     "text": [
      "\u001b[32mThat's the right answer!  You are one gold star closer to restoring snow operations.You have completed Day 4! You can [Shareon\n",
      "  Twitter\n",
      "Mastodon] this victory or [Return to Your Advent Calendar].\u001b[0m\n"
     ]
    }
   ],
   "source": [
    "puzzle.answer_b = winningScore"
   ]
  },
  {
   "cell_type": "code",
   "execution_count": 142,
   "metadata": {},
   "outputs": [
    {
     "name": "stdout",
     "output_type": "stream",
     "text": [
      "1.02 s ± 22.9 ms per loop (mean ± std. dev. of 7 runs, 1 loop each)\n"
     ]
    }
   ],
   "source": []
  },
  {
   "cell_type": "code",
   "execution_count": 103,
   "metadata": {},
   "outputs": [
    {
     "name": "stdout",
     "output_type": "stream",
     "text": [
      "Part b already solved with same answer: 17435\n"
     ]
    }
   ],
   "source": [
    "#puzzle.answer_b = ans_b"
   ]
  },
  {
   "cell_type": "markdown",
   "metadata": {},
   "source": [
    "### Day 3"
   ]
  },
  {
   "cell_type": "code",
   "execution_count": 99,
   "metadata": {},
   "outputs": [],
   "source": [
    "puzzle=Puzzle(year=2023,day=3)\n",
    "# print(puzzle.easter_eggs)\n"
   ]
  },
  {
   "cell_type": "markdown",
   "metadata": {},
   "source": [
    "#### Part a"
   ]
  },
  {
   "cell_type": "code",
   "execution_count": 111,
   "metadata": {},
   "outputs": [
    {
     "name": "stdout",
     "output_type": "stream",
     "text": [
      "535351\n"
     ]
    }
   ],
   "source": [
    "input=puzzle.input_data.strip().split('\\n')\n",
    "\n",
    "window = [-1, 0, 1]\n",
    "\n",
    "def findNumber(input, iLine, jColumn):\n",
    "    number = ''\n",
    "    originaljColumn = jColumn\n",
    "    while jColumn < len(input[0]) and input[iLine][jColumn].isdigit():\n",
    "        number+=input[iLine][jColumn]\n",
    "        jColumn+=1\n",
    "    jColumn = originaljColumn - 1\n",
    "    while jColumn >= 0 and input[iLine][jColumn].isdigit():\n",
    "        number = input[iLine][jColumn] + number\n",
    "        jColumn-=1 \n",
    "    return number\n",
    "\n",
    "def findNotDotOrDigit(value):\n",
    "    return value != \".\" and not value.isdigit()\n",
    "\n",
    "def checkAroundDigit(input, iLine, jColumn):\n",
    "    for iDelta in window:\n",
    "        for jDelta in window:\n",
    "            if -1 < iLine+iDelta < len(input) and -1 < jColumn+jDelta < len(input[0]):\n",
    "                if findNotDotOrDigit(input[iLine+iDelta][jColumn+jDelta]):\n",
    "                    return True\n",
    "    return False\n",
    "\n",
    "def checkValidityOfNumber(input, iLine, jColumn, number):\n",
    "    for digitShift in range(len(number)):\n",
    "        if checkAroundDigit(input, iLine, jColumn+digitShift):\n",
    "            return True\n",
    "    return False\n",
    "        \n",
    "        \n",
    "totalValues = 0\n",
    "\n",
    "for iLine in range(len(input)):\n",
    "    jColumn = 0\n",
    "    while jColumn < len(input[0]):\n",
    "        if input[iLine][jColumn].isdigit():\n",
    "            number = findNumber(input, iLine, jColumn)\n",
    "            if checkValidityOfNumber(input, iLine, jColumn, number):\n",
    "                totalValues += int(number)\n",
    "            jColumn+=len(number)-1\n",
    "            \n",
    "            \n",
    "            # print(number)\n",
    "        jColumn+=1\n",
    "\n",
    "print(totalValues)\n"
   ]
  },
  {
   "cell_type": "code",
   "execution_count": 55,
   "metadata": {},
   "outputs": [
    {
     "name": "stdout",
     "output_type": "stream",
     "text": [
      "\u001b[32mThat's the right answer!  You are one gold star closer to restoring snow operations. [Continue to Part Two]\u001b[0m\n"
     ]
    }
   ],
   "source": [
    "puzzle.answer_a = totalValues"
   ]
  },
  {
   "cell_type": "markdown",
   "metadata": {},
   "source": [
    "#### Part b"
   ]
  },
  {
   "cell_type": "code",
   "execution_count": 115,
   "metadata": {},
   "outputs": [
    {
     "name": "stdout",
     "output_type": "stream",
     "text": [
      "87287096\n"
     ]
    }
   ],
   "source": [
    "totalValues = 0\n",
    "\n",
    "def findDigitsAround(input, iLine, jColumn):\n",
    "    listOfNumbers = []\n",
    "    for iDelta in window:\n",
    "        for jDelta in window:\n",
    "            if -1 < iLine+iDelta < len(input) and -1 < jColumn+jDelta < len(input[0]):\n",
    "                if input[iLine+iDelta][jColumn+jDelta].isdigit():\n",
    "                    listOfNumbers.append(findNumber(input,iLine+iDelta,jColumn+jDelta))\n",
    "    return list(set(listOfNumbers))\n",
    "                    \n",
    "                    \n",
    "for iLine in range(len(input)):\n",
    "    jColumn = 0\n",
    "    while jColumn < len(input[0]):\n",
    "        if input[iLine][jColumn]==\"*\":\n",
    "            numbersAdjacent = findDigitsAround(input, iLine, jColumn)\n",
    "            if len(numbersAdjacent) == 2:\n",
    "                totalValues += int(numbersAdjacent[0])*int(numbersAdjacent[1])            \n",
    "            # print(number)\n",
    "        jColumn+=1\n",
    "\n",
    "print(totalValues)"
   ]
  },
  {
   "cell_type": "code",
   "execution_count": 113,
   "metadata": {},
   "outputs": [
    {
     "name": "stdout",
     "output_type": "stream",
     "text": [
      "\u001b[32mThat's the right answer!  You are one gold star closer to restoring snow operations.You have completed Day 3! You can [Shareon\n",
      "  Twitter\n",
      "Mastodon] this victory or [Return to Your Advent Calendar].\u001b[0m\n"
     ]
    }
   ],
   "source": [
    "puzzle.answer_b = totalValues"
   ]
  },
  {
   "cell_type": "markdown",
   "metadata": {},
   "source": [
    "### Day 2"
   ]
  },
  {
   "cell_type": "code",
   "execution_count": 3,
   "metadata": {},
   "outputs": [
    {
     "name": "stdout",
     "output_type": "stream",
     "text": [
      "[<span title=\"No, the Elf's name is not 'WOPR'. It's Joshua.\">would you like to play a game</span>]\n"
     ]
    }
   ],
   "source": [
    "puzzle=Puzzle(year=2023,day=2)\n",
    "print(puzzle.easter_eggs)\n"
   ]
  },
  {
   "cell_type": "markdown",
   "metadata": {},
   "source": [
    "#### Part a"
   ]
  },
  {
   "cell_type": "code",
   "execution_count": 20,
   "metadata": {},
   "outputs": [
    {
     "name": "stdout",
     "output_type": "stream",
     "text": [
      "68638\n"
     ]
    }
   ],
   "source": [
    "conditionPossible = {\"red\" : 12,\n",
    "                     \"green\" : 13,\n",
    "                     \"blue\" : 14\n",
    "                    }\n",
    "\n",
    "def checkValidity(game):\n",
    "    \n",
    "    samples = game.split(\";\")\n",
    "    minDice ={\"red\" : 0,\n",
    "              \"green\" : 0,\n",
    "              \"blue\" : 0\n",
    "                    }\n",
    "    for sample in samples:\n",
    "        colorSamples = sample.strip().split(\",\")\n",
    "        for colorSample in colorSamples:\n",
    "            [number, color] = colorSample.strip().split(\" \")\n",
    "            # part A\n",
    "            # if int(number) > conditionPossible[color]:\n",
    "            #     return False\n",
    "    \n",
    "            # part B\n",
    "            if int(number) > minDice[color]:\n",
    "                minDice[color] = int(number)\n",
    "            \n",
    "            \n",
    "    # return True\n",
    "    return minDice[\"red\"]*minDice[\"blue\"]*minDice[\"green\"]\n",
    "\n",
    "games = puzzle.input_data.strip().split(\"\\n\");\n",
    "\n",
    "sumOfIds = 0\n",
    "\n",
    "for game in games:\n",
    "\n",
    "    [name, game] = game.split(\":\")\n",
    "    # isValid = checkValidity(game.strip())\n",
    "    # if isValid:\n",
    "    #     sumOfIds += int(name.split(\" \")[1])\n",
    "    sumOfIds += checkValidity(game.strip())\n",
    "\n",
    "print(sumOfIds)\n",
    "\n",
    "    "
   ]
  },
  {
   "cell_type": "code",
   "execution_count": 21,
   "metadata": {},
   "outputs": [
    {
     "name": "stdout",
     "output_type": "stream",
     "text": [
      "\u001b[32mThat's the right answer!  You are one gold star closer to restoring snow operations.You have completed Day 2! You can [Shareon\n",
      "  Twitter\n",
      "Mastodon] this victory or [Return to Your Advent Calendar].\u001b[0m\n"
     ]
    }
   ],
   "source": [
    "puzzle.answer_b = sumOfIds\n",
    "#submit(answer=ans_a,day=2,part=\"a\",year=2021)"
   ]
  },
  {
   "cell_type": "markdown",
   "metadata": {},
   "source": [
    "#### Part b"
   ]
  },
  {
   "cell_type": "code",
   "execution_count": 148,
   "metadata": {},
   "outputs": [
    {
     "name": "stdout",
     "output_type": "stream",
     "text": [
      "620 µs ± 34.3 µs per loop (mean ± std. dev. of 7 runs, 1000 loops each)\n"
     ]
    }
   ],
   "source": [
    "class submarine_pro(submarine):\n",
    "\n",
    "    def __init__(self,depth=0,hor_pos=0,aim=0):\n",
    "        super().__init__(depth,hor_pos)\n",
    "        self.aim=aim\n",
    "    \n",
    "    def movement(self,direction:str, amount:int):\n",
    "        if direction==\"up\":\n",
    "            self.aim-=amount\n",
    "        elif direction==\"down\":\n",
    "            self.aim+=amount\n",
    "        elif direction==\"forward\":\n",
    "            self.hor_pos+=amount\n",
    "            self.depth+=self.aim*amount\n",
    "        else:\n",
    "            raise Exception(\"going in an unknown direction\")\n",
    "\n",
    "            \n",
    "            \n",
    "cousteau=submarine_pro()\n",
    "\n",
    "movements=puzzle.input_data.strip().split('\\n')\n",
    "\n",
    "for trajectory in movements:\n",
    "    direction,amount=trajectory.split(' ')\n",
    "    cousteau.movement(direction,int(amount))\n",
    "\n",
    "ans_b=cousteau.depth*cousteau.hor_pos"
   ]
  },
  {
   "cell_type": "code",
   "execution_count": 118,
   "metadata": {},
   "outputs": [],
   "source": [
    "#puzzle.answer_b = ans_b"
   ]
  },
  {
   "cell_type": "markdown",
   "metadata": {},
   "source": [
    "### Day 1"
   ]
  },
  {
   "cell_type": "code",
   "execution_count": 7,
   "metadata": {},
   "outputs": [
    {
     "name": "stdout",
     "output_type": "stream",
     "text": [
      "[<span title=\"My hope is that this abomination of a run-on sentence somehow conveys the chaos of being hastily loaded into a trebuchet.\">and</span>]\n"
     ]
    }
   ],
   "source": [
    "puzzle=Puzzle(year=2023,day=1)\n",
    "print(puzzle.easter_eggs)"
   ]
  },
  {
   "cell_type": "code",
   "execution_count": 9,
   "metadata": {},
   "outputs": [],
   "source": [
    "numbers = {\n",
    "    'one': 1,\n",
    "    'two': 2,\n",
    "    'three': 3,\n",
    "    'four': 4,\n",
    "    'five': 5,\n",
    "    'six': 6,\n",
    "    'seven': 7,\n",
    "    'eight': 8,\n",
    "    'nine': 9,\n",
    "    '1': 1,\n",
    "    '2': 2,\n",
    "    '3': 3,\n",
    "    '4': 4,\n",
    "    '5': 5,\n",
    "    '6': 6,\n",
    "    '7': 7,\n",
    "    '8': 8,\n",
    "    '9': 9,\n",
    "}\n",
    "\n",
    "def firstAndLastDigit(sequence):\n",
    "    listOfDigits = []\n",
    "    for char in sequence:\n",
    "        if char.isdigit():\n",
    "            listOfDigits.append(char)\n",
    "\n",
    "    return int(listOfDigits[0]+listOfDigits[-1])\n",
    "\n",
    "def firstAndLastDigitSpelledOut(sequence):\n",
    "    firstDigit=0\n",
    "    lastDigit=0\n",
    "    firstIndex = len(sequence)+1\n",
    "    lastIndex = -1\n",
    "\n",
    "    for pattern in numbers:\n",
    "        \n",
    "        firstOccurence = sequence.find(pattern)\n",
    "        if firstOccurence != -1 and firstOccurence < firstIndex:\n",
    "            firstDigit = numbers[pattern]\n",
    "            firstIndex = firstOccurence\n",
    "        \n",
    "        lastOccurence = sequence.rfind(pattern)\n",
    "        if lastOccurence != -1 and lastOccurence > lastIndex:\n",
    "            lastDigit = numbers[pattern]\n",
    "            lastIndex = lastOccurence\n",
    "    return 10*firstDigit+lastDigit \n",
    "\n",
    "\n",
    "instructions=[seq for seq in puzzle.input_data.strip().split('\\n')]\n",
    "\n",
    "digit = re.search(r\"\\d\", instructions[0])\n",
    "\n",
    "\n",
    "result = 0\n",
    "for instruction in instructions:\n",
    "    result += firstAndLastDigitSpelledOut(instruction)\n",
    "    \n"
   ]
  },
  {
   "cell_type": "code",
   "execution_count": null,
   "metadata": {},
   "outputs": [],
   "source": [
    "# puzzle.answer_a = result\n",
    "puzzle.answer_b = result"
   ]
  }
 ],
 "metadata": {
  "kernelspec": {
   "display_name": "Python 3 (ipykernel)",
   "language": "python",
   "name": "python3"
  },
  "language_info": {
   "codemirror_mode": {
    "name": "ipython",
    "version": 3
   },
   "file_extension": ".py",
   "mimetype": "text/x-python",
   "name": "python",
   "nbconvert_exporter": "python",
   "pygments_lexer": "ipython3",
   "version": "3.8.10"
  }
 },
 "nbformat": 4,
 "nbformat_minor": 4
}
