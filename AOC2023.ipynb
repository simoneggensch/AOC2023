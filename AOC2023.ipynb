{
 "cells": [
  {
   "cell_type": "markdown",
   "metadata": {},
   "source": [
    "## Advent of code 2023"
   ]
  },
  {
   "cell_type": "code",
   "execution_count": null,
   "metadata": {},
   "outputs": [],
   "source": [
    "#pip install aocd"
   ]
  },
  {
   "cell_type": "code",
   "execution_count": 1,
   "metadata": {},
   "outputs": [],
   "source": [
    "### imports\n",
    "\n",
    "from aocd import submit\n",
    "from aocd.models import Puzzle\n",
    "import os\n",
    "import numpy as np\n",
    "import re\n",
    "import math\n",
    "from collections import Counter, defaultdict\n",
    "os.environ[\"AOC_SESSION\"]=\"53616c7465645f5f758c99d24081ffad2fcf5cbd91464a34dbbff6365ee265c49647f5fc31927f60daa37ac129107458fc661b911273336aa557a7e32e41dd75\""
   ]
  },
  {
   "cell_type": "markdown",
   "metadata": {},
   "source": [
    "### Day 25"
   ]
  },
  {
   "cell_type": "code",
   "execution_count": null,
   "metadata": {},
   "outputs": [],
   "source": [
    "puzzle=Puzzle(year=2023,day=25)\n",
    "#print(puzzle.easter_eggs)\n"
   ]
  },
  {
   "cell_type": "markdown",
   "metadata": {},
   "source": [
    "#### Part a"
   ]
  },
  {
   "cell_type": "code",
   "execution_count": null,
   "metadata": {},
   "outputs": [],
   "source": []
  },
  {
   "cell_type": "code",
   "execution_count": null,
   "metadata": {},
   "outputs": [],
   "source": [
    "#puzzle.answer_a = ans_a"
   ]
  },
  {
   "cell_type": "markdown",
   "metadata": {},
   "source": [
    "### Day 24"
   ]
  },
  {
   "cell_type": "code",
   "execution_count": null,
   "metadata": {},
   "outputs": [],
   "source": [
    "puzzle=Puzzle(year=2023,day=24)\n",
    "#print(puzzle.easter_eggs)\n"
   ]
  },
  {
   "cell_type": "markdown",
   "metadata": {},
   "source": [
    "#### Part a"
   ]
  },
  {
   "cell_type": "code",
   "execution_count": null,
   "metadata": {},
   "outputs": [],
   "source": []
  },
  {
   "cell_type": "code",
   "execution_count": null,
   "metadata": {},
   "outputs": [],
   "source": [
    "#puzzle.answer_a = ans_a"
   ]
  },
  {
   "cell_type": "markdown",
   "metadata": {},
   "source": [
    "### Day 23"
   ]
  },
  {
   "cell_type": "code",
   "execution_count": null,
   "metadata": {},
   "outputs": [],
   "source": [
    "puzzle=Puzzle(year=2023,day=23)\n",
    "#print(puzzle.easter_eggs)\n"
   ]
  },
  {
   "cell_type": "markdown",
   "metadata": {},
   "source": [
    "#### Part a"
   ]
  },
  {
   "cell_type": "code",
   "execution_count": null,
   "metadata": {},
   "outputs": [],
   "source": []
  },
  {
   "cell_type": "code",
   "execution_count": null,
   "metadata": {},
   "outputs": [],
   "source": [
    "#puzzle.answer_a = ans_a"
   ]
  },
  {
   "cell_type": "markdown",
   "metadata": {},
   "source": [
    "### Day 22"
   ]
  },
  {
   "cell_type": "code",
   "execution_count": null,
   "metadata": {},
   "outputs": [],
   "source": [
    "puzzle=Puzzle(year=2023,day=22)\n",
    "#print(puzzle.easter_eggs)\n"
   ]
  },
  {
   "cell_type": "markdown",
   "metadata": {},
   "source": [
    "#### Part a"
   ]
  },
  {
   "cell_type": "code",
   "execution_count": null,
   "metadata": {},
   "outputs": [],
   "source": []
  },
  {
   "cell_type": "code",
   "execution_count": null,
   "metadata": {},
   "outputs": [],
   "source": [
    "#puzzle.answer_a = ans_a"
   ]
  },
  {
   "cell_type": "markdown",
   "metadata": {},
   "source": [
    "### Day 21"
   ]
  },
  {
   "cell_type": "code",
   "execution_count": null,
   "metadata": {},
   "outputs": [],
   "source": [
    "puzzle=Puzzle(year=2023,day=21)\n",
    "#print(puzzle.easter_eggs)\n"
   ]
  },
  {
   "cell_type": "markdown",
   "metadata": {},
   "source": [
    "#### Part a"
   ]
  },
  {
   "cell_type": "code",
   "execution_count": null,
   "metadata": {},
   "outputs": [],
   "source": []
  },
  {
   "cell_type": "code",
   "execution_count": null,
   "metadata": {},
   "outputs": [],
   "source": [
    "#puzzle.answer_a = ans_a"
   ]
  },
  {
   "cell_type": "markdown",
   "metadata": {},
   "source": [
    "#### Part b"
   ]
  },
  {
   "cell_type": "code",
   "execution_count": null,
   "metadata": {},
   "outputs": [],
   "source": []
  },
  {
   "cell_type": "code",
   "execution_count": null,
   "metadata": {},
   "outputs": [],
   "source": [
    "#puzzle.answer_b = ans_b"
   ]
  },
  {
   "cell_type": "markdown",
   "metadata": {},
   "source": [
    "### Day 20"
   ]
  },
  {
   "cell_type": "code",
   "execution_count": 4,
   "metadata": {},
   "outputs": [],
   "source": [
    "puzzle=Puzzle(year=2023,day=20)\n",
    "#print(puzzle.easter_eggs)\n"
   ]
  },
  {
   "cell_type": "markdown",
   "metadata": {},
   "source": [
    "#### Part a"
   ]
  },
  {
   "cell_type": "code",
   "execution_count": 49,
   "metadata": {},
   "outputs": [
    {
     "name": "stdout",
     "output_type": "stream",
     "text": [
      "5395 17584\n"
     ]
    }
   ],
   "source": []
  },
  {
   "cell_type": "code",
   "execution_count": 39,
   "metadata": {},
   "outputs": [
    {
     "name": "stdout",
     "output_type": "stream",
     "text": [
      "\u001b[32mThat's the right answer!  You are one gold star closer to finding the sleigh keys. [Continue to Part Two]\u001b[0m\n"
     ]
    }
   ],
   "source": [
    "puzzle.answer_a = ans_a"
   ]
  },
  {
   "cell_type": "markdown",
   "metadata": {},
   "source": [
    "### Day 19"
   ]
  },
  {
   "cell_type": "code",
   "execution_count": 51,
   "metadata": {},
   "outputs": [],
   "source": [
    "puzzle=Puzzle(year=2023,day=19)\n",
    "#print(puzzle.easter_eggs)\n"
   ]
  },
  {
   "cell_type": "markdown",
   "metadata": {},
   "source": [
    "#### Part a"
   ]
  },
  {
   "cell_type": "code",
   "execution_count": null,
   "metadata": {},
   "outputs": [],
   "source": []
  },
  {
   "cell_type": "code",
   "execution_count": null,
   "metadata": {},
   "outputs": [],
   "source": [
    "#puzzle.answer_a = ans_a"
   ]
  },
  {
   "cell_type": "markdown",
   "metadata": {},
   "source": [
    "#### Part b"
   ]
  },
  {
   "cell_type": "code",
   "execution_count": null,
   "metadata": {},
   "outputs": [],
   "source": []
  },
  {
   "cell_type": "code",
   "execution_count": null,
   "metadata": {},
   "outputs": [],
   "source": [
    "#puzzle.answer_b = ans_b"
   ]
  },
  {
   "cell_type": "markdown",
   "metadata": {},
   "source": [
    "### Day 18"
   ]
  },
  {
   "cell_type": "code",
   "execution_count": 161,
   "metadata": {},
   "outputs": [],
   "source": [
    "puzzle=Puzzle(year=2023,day=18)\n",
    "#print(puzzle.easter_eggs)\n"
   ]
  },
  {
   "cell_type": "markdown",
   "metadata": {},
   "source": [
    "#### Part a"
   ]
  },
  {
   "cell_type": "code",
   "execution_count": null,
   "metadata": {},
   "outputs": [],
   "source": []
  },
  {
   "cell_type": "code",
   "execution_count": 163,
   "metadata": {},
   "outputs": [],
   "source": [
    "puzzle.answer_a = ans_a"
   ]
  },
  {
   "cell_type": "markdown",
   "metadata": {},
   "source": [
    "### Day 17"
   ]
  },
  {
   "cell_type": "code",
   "execution_count": 166,
   "metadata": {},
   "outputs": [],
   "source": [
    "puzzle=Puzzle(year=2023,day=17)\n",
    "#print(puzzle.easter_eggs)\n"
   ]
  },
  {
   "cell_type": "markdown",
   "metadata": {},
   "source": [
    "#### Part a"
   ]
  },
  {
   "cell_type": "code",
   "execution_count": null,
   "metadata": {},
   "outputs": [],
   "source": []
  },
  {
   "cell_type": "code",
   "execution_count": 168,
   "metadata": {},
   "outputs": [],
   "source": [
    "puzzle.answer_a = ans_a"
   ]
  },
  {
   "cell_type": "code",
   "execution_count": 170,
   "metadata": {},
   "outputs": [],
   "source": [
    "puzzle.answer_b = ans_b"
   ]
  },
  {
   "cell_type": "markdown",
   "metadata": {},
   "source": [
    "### Day 16"
   ]
  },
  {
   "cell_type": "code",
   "execution_count": 171,
   "metadata": {},
   "outputs": [],
   "source": [
    "puzzle=Puzzle(year=2023,day=16)\n",
    "#print(puzzle.easter_eggs)\n"
   ]
  },
  {
   "cell_type": "markdown",
   "metadata": {},
   "source": [
    "#### Part a"
   ]
  },
  {
   "cell_type": "code",
   "execution_count": null,
   "metadata": {},
   "outputs": [],
   "source": []
  },
  {
   "cell_type": "code",
   "execution_count": 50,
   "metadata": {},
   "outputs": [],
   "source": [
    "#puzzle.answer_a = ans_a"
   ]
  },
  {
   "cell_type": "markdown",
   "metadata": {},
   "source": [
    "### Day 15"
   ]
  },
  {
   "cell_type": "code",
   "execution_count": 184,
   "metadata": {},
   "outputs": [],
   "source": [
    "puzzle=Puzzle(year=2023,day=15)\n",
    "#print(puzzle.easter_eggs)"
   ]
  },
  {
   "cell_type": "markdown",
   "metadata": {},
   "source": [
    "#### Part a"
   ]
  },
  {
   "cell_type": "code",
   "execution_count": null,
   "metadata": {},
   "outputs": [],
   "source": []
  },
  {
   "cell_type": "code",
   "execution_count": 186,
   "metadata": {},
   "outputs": [],
   "source": [
    "#puzzle.answer_a = ans_a"
   ]
  },
  {
   "cell_type": "markdown",
   "metadata": {},
   "source": [
    "### Day 14"
   ]
  },
  {
   "cell_type": "code",
   "execution_count": 191,
   "metadata": {},
   "outputs": [],
   "source": [
    "puzzle=Puzzle(year=2023,day=14)\n",
    "#print(puzzle.easter_eggs)\n"
   ]
  },
  {
   "cell_type": "markdown",
   "metadata": {},
   "source": [
    "#### Part a"
   ]
  },
  {
   "cell_type": "code",
   "execution_count": null,
   "metadata": {},
   "outputs": [],
   "source": []
  },
  {
   "cell_type": "code",
   "execution_count": 190,
   "metadata": {},
   "outputs": [],
   "source": [
    "#puzzle.answer_a = ans_a"
   ]
  },
  {
   "cell_type": "markdown",
   "metadata": {},
   "source": [
    "### Day 13"
   ]
  },
  {
   "cell_type": "code",
   "execution_count": 188,
   "metadata": {},
   "outputs": [],
   "source": [
    "puzzle=Puzzle(year=2023,day=13)\n",
    "#print(puzzle.easter_eggs)\n"
   ]
  },
  {
   "cell_type": "markdown",
   "metadata": {},
   "source": [
    "#### Part a"
   ]
  },
  {
   "cell_type": "code",
   "execution_count": null,
   "metadata": {},
   "outputs": [],
   "source": []
  },
  {
   "cell_type": "code",
   "execution_count": 187,
   "metadata": {},
   "outputs": [],
   "source": [
    "#puzzle.answer_a = ans_a"
   ]
  },
  {
   "cell_type": "markdown",
   "metadata": {},
   "source": [
    "### Day 12"
   ]
  },
  {
   "cell_type": "code",
   "execution_count": 181,
   "metadata": {},
   "outputs": [],
   "source": [
    "puzzle=Puzzle(year=2023,day=12)\n",
    "#print(puzzle.easter_eggs)\n"
   ]
  },
  {
   "cell_type": "markdown",
   "metadata": {},
   "source": [
    "#### Part a"
   ]
  },
  {
   "cell_type": "code",
   "execution_count": 183,
   "metadata": {},
   "outputs": [
    {
     "name": "stdout",
     "output_type": "stream",
     "text": [
      "12.3 ms ± 477 µs per loop (mean ± std. dev. of 7 runs, 100 loops each)\n"
     ]
    }
   ],
   "source": []
  },
  {
   "cell_type": "code",
   "execution_count": 19,
   "metadata": {},
   "outputs": [],
   "source": [
    "#puzzle.answer_a = ans_a"
   ]
  },
  {
   "cell_type": "markdown",
   "metadata": {},
   "source": [
    "### Day 11"
   ]
  },
  {
   "cell_type": "code",
   "execution_count": 176,
   "metadata": {},
   "outputs": [],
   "source": [
    "puzzle=Puzzle(year=2023,day=11)\n",
    "#print(puzzle.easter_eggs)\n"
   ]
  },
  {
   "cell_type": "markdown",
   "metadata": {},
   "source": [
    "#### Part a"
   ]
  },
  {
   "cell_type": "code",
   "execution_count": 178,
   "metadata": {},
   "outputs": [
    {
     "name": "stdout",
     "output_type": "stream",
     "text": [
      "12.2 ms ± 722 µs per loop (mean ± std. dev. of 7 runs, 100 loops each)\n"
     ]
    }
   ],
   "source": []
  },
  {
   "cell_type": "code",
   "execution_count": 179,
   "metadata": {},
   "outputs": [],
   "source": [
    "#puzzle.answer_a = ans_a"
   ]
  },
  {
   "cell_type": "markdown",
   "metadata": {},
   "source": [
    "### Day 10"
   ]
  },
  {
   "cell_type": "code",
   "execution_count": 96,
   "metadata": {},
   "outputs": [],
   "source": [
    "puzzle=Puzzle(year=2023,day=10)\n",
    "#print(puzzle.easter_eggs)\n"
   ]
  },
  {
   "cell_type": "markdown",
   "metadata": {},
   "source": [
    "#### Part a"
   ]
  },
  {
   "cell_type": "code",
   "execution_count": null,
   "metadata": {},
   "outputs": [],
   "source": []
  },
  {
   "cell_type": "code",
   "execution_count": 97,
   "metadata": {},
   "outputs": [],
   "source": [
    "#puzzle.answer_a = ans_a"
   ]
  },
  {
   "cell_type": "markdown",
   "metadata": {},
   "source": [
    "### Day 9"
   ]
  },
  {
   "cell_type": "code",
   "execution_count": 168,
   "metadata": {},
   "outputs": [],
   "source": [
    "puzzle=Puzzle(year=2023,day=9)"
   ]
  },
  {
   "cell_type": "markdown",
   "metadata": {},
   "source": [
    "#### Part a"
   ]
  },
  {
   "cell_type": "code",
   "execution_count": null,
   "metadata": {},
   "outputs": [],
   "source": []
  },
  {
   "cell_type": "code",
   "execution_count": 89,
   "metadata": {},
   "outputs": [],
   "source": [
    "#puzzle.answer_a = ans_a"
   ]
  },
  {
   "cell_type": "markdown",
   "metadata": {},
   "source": [
    "### Day 8"
   ]
  },
  {
   "cell_type": "code",
   "execution_count": 90,
   "metadata": {},
   "outputs": [],
   "source": [
    "puzzle=Puzzle(year=2023,day=8)\n",
    "#print(puzzle.easter_eggs)\n"
   ]
  },
  {
   "cell_type": "markdown",
   "metadata": {},
   "source": [
    "#### Part a"
   ]
  },
  {
   "cell_type": "code",
   "execution_count": null,
   "metadata": {},
   "outputs": [],
   "source": []
  },
  {
   "cell_type": "code",
   "execution_count": 91,
   "metadata": {},
   "outputs": [],
   "source": [
    "#puzzle.answer_a = ans_a"
   ]
  },
  {
   "cell_type": "markdown",
   "metadata": {},
   "source": [
    "### Day 7"
   ]
  },
  {
   "cell_type": "code",
   "execution_count": 92,
   "metadata": {},
   "outputs": [],
   "source": [
    "puzzle=Puzzle(year=2023,day=7)\n",
    "#print(puzzle.easter_eggs)\n"
   ]
  },
  {
   "cell_type": "markdown",
   "metadata": {},
   "source": [
    "#### Part a"
   ]
  },
  {
   "cell_type": "code",
   "execution_count": null,
   "metadata": {},
   "outputs": [],
   "source": []
  },
  {
   "cell_type": "code",
   "execution_count": 93,
   "metadata": {},
   "outputs": [],
   "source": [
    "#puzzle.answer_a = ans_a"
   ]
  },
  {
   "cell_type": "markdown",
   "metadata": {},
   "source": [
    "### Day 6"
   ]
  },
  {
   "cell_type": "code",
   "execution_count": 94,
   "metadata": {},
   "outputs": [],
   "source": [
    "puzzle=Puzzle(year=2021,day=6)\n",
    "#print(puzzle.easter_eggs)\n"
   ]
  },
  {
   "cell_type": "markdown",
   "metadata": {},
   "source": [
    "#### Part a"
   ]
  },
  {
   "cell_type": "code",
   "execution_count": null,
   "metadata": {},
   "outputs": [],
   "source": []
  },
  {
   "cell_type": "code",
   "execution_count": 95,
   "metadata": {},
   "outputs": [],
   "source": [
    "#puzzle.answer_a = ans_a"
   ]
  },
  {
   "cell_type": "markdown",
   "metadata": {},
   "source": [
    "### Day 5"
   ]
  },
  {
   "cell_type": "code",
   "execution_count": 129,
   "metadata": {},
   "outputs": [],
   "source": [
    "puzzle=Puzzle(year=2023,day=5)\n",
    "#print(puzzle.easter_eggs)\n"
   ]
  },
  {
   "cell_type": "markdown",
   "metadata": {},
   "source": [
    "#### Part a"
   ]
  },
  {
   "cell_type": "code",
   "execution_count": 130,
   "metadata": {},
   "outputs": [
    {
     "name": "stdout",
     "output_type": "stream",
     "text": [
      "481 ms ± 26.8 ms per loop (mean ± std. dev. of 7 runs, 1 loop each)\n"
     ]
    }
   ],
   "source": []
  },
  {
   "cell_type": "code",
   "execution_count": 94,
   "metadata": {},
   "outputs": [],
   "source": [
    "puzzle.answer_a = ans_a"
   ]
  },
  {
   "cell_type": "markdown",
   "metadata": {},
   "source": [
    "### Day 4"
   ]
  },
  {
   "cell_type": "code",
   "execution_count": 56,
   "metadata": {},
   "outputs": [],
   "source": [
    "puzzle=Puzzle(year=2023,day=4)\n",
    "#print(puzzle.easter_eggs)\n"
   ]
  },
  {
   "cell_type": "markdown",
   "metadata": {},
   "source": [
    "#### Part a"
   ]
  },
  {
   "cell_type": "code",
   "execution_count": 87,
   "metadata": {},
   "outputs": [
    {
     "name": "stdout",
     "output_type": "stream",
     "text": [
      "5554894\n",
      "5554894\n"
     ]
    }
   ],
   "source": [
    "input_data=puzzle.input_data.split('\\n')\n",
    "# input_data=open(\"testData/example4.txt\").read().split('\\n')\n",
    "\n",
    "def calculateScoreOneticket(ticket):\n",
    "    ticketScore = 0\n",
    "    [gametitle, numbers] = ticket.split(\":\")\n",
    "    [winningNumbers, playedNumbers] = numbers.split(\"|\")\n",
    "    winningNumbers = list(filter(None, winningNumbers.strip().split(\" \")))\n",
    "    playedNumbers = list(filter(None, playedNumbers.strip().split(\" \")))\n",
    "    nbWinningNumbers = 0\n",
    "    for number in playedNumbers:\n",
    "        if number in winningNumbers:\n",
    "            nbWinningNumbers+=1\n",
    "    # part a\n",
    "    # if nbWinningNumbers > 0:\n",
    "    #     return 2**(nbWinningNumbers-1)\n",
    "    # return 0\n",
    "    return nbWinningNumbers\n",
    "\n",
    "winningScore = 0\n",
    "dictScore = defaultdict(lambda: 0)\n",
    "nTickets = {}\n",
    "\n",
    "for nTicket, ticket in enumerate(input_data):\n",
    "    # part a\n",
    "    # winningScore+=calculateScoreOneticket(ticket)\n",
    "    dictScore[nTicket] = calculateScoreOneticket(ticket)\n",
    "    nTickets[nTicket] = 1\n",
    "    \n",
    "for val in dictScore:\n",
    "    for i in range(dictScore[val]):\n",
    "        nTickets[val + i + 1]+=nTickets[val]\n",
    "\n",
    "print(sum(nTickets.values()))\n",
    "# print(dictScore)\n",
    "# print(nTickets)\n",
    "winningScore = sum(nTickets.values())    \n",
    "print(winningScore)\n"
   ]
  },
  {
   "cell_type": "code",
   "execution_count": 88,
   "metadata": {},
   "outputs": [
    {
     "name": "stdout",
     "output_type": "stream",
     "text": [
      "\u001b[32mThat's the right answer!  You are one gold star closer to restoring snow operations.You have completed Day 4! You can [Shareon\n",
      "  Twitter\n",
      "Mastodon] this victory or [Return to Your Advent Calendar].\u001b[0m\n"
     ]
    }
   ],
   "source": [
    "puzzle.answer_b = winningScore"
   ]
  },
  {
   "cell_type": "code",
   "execution_count": 142,
   "metadata": {},
   "outputs": [
    {
     "name": "stdout",
     "output_type": "stream",
     "text": [
      "1.02 s ± 22.9 ms per loop (mean ± std. dev. of 7 runs, 1 loop each)\n"
     ]
    }
   ],
   "source": []
  },
  {
   "cell_type": "code",
   "execution_count": 103,
   "metadata": {},
   "outputs": [
    {
     "name": "stdout",
     "output_type": "stream",
     "text": [
      "Part b already solved with same answer: 17435\n"
     ]
    }
   ],
   "source": [
    "#puzzle.answer_b = ans_b"
   ]
  },
  {
   "cell_type": "markdown",
   "metadata": {},
   "source": [
    "### Day 3"
   ]
  },
  {
   "cell_type": "code",
   "execution_count": 99,
   "metadata": {},
   "outputs": [],
   "source": [
    "puzzle=Puzzle(year=2023,day=3)\n",
    "# print(puzzle.easter_eggs)\n"
   ]
  },
  {
   "cell_type": "markdown",
   "metadata": {},
   "source": [
    "#### Part a"
   ]
  },
  {
   "cell_type": "code",
   "execution_count": 111,
   "metadata": {},
   "outputs": [
    {
     "name": "stdout",
     "output_type": "stream",
     "text": [
      "535351\n"
     ]
    }
   ],
   "source": [
    "input=puzzle.input_data.strip().split('\\n')\n",
    "\n",
    "window = [-1, 0, 1]\n",
    "\n",
    "def findNumber(input, iLine, jColumn):\n",
    "    number = ''\n",
    "    originaljColumn = jColumn\n",
    "    while jColumn < len(input[0]) and input[iLine][jColumn].isdigit():\n",
    "        number+=input[iLine][jColumn]\n",
    "        jColumn+=1\n",
    "    jColumn = originaljColumn - 1\n",
    "    while jColumn >= 0 and input[iLine][jColumn].isdigit():\n",
    "        number = input[iLine][jColumn] + number\n",
    "        jColumn-=1 \n",
    "    return number\n",
    "\n",
    "def findNotDotOrDigit(value):\n",
    "    return value != \".\" and not value.isdigit()\n",
    "\n",
    "def checkAroundDigit(input, iLine, jColumn):\n",
    "    for iDelta in window:\n",
    "        for jDelta in window:\n",
    "            if -1 < iLine+iDelta < len(input) and -1 < jColumn+jDelta < len(input[0]):\n",
    "                if findNotDotOrDigit(input[iLine+iDelta][jColumn+jDelta]):\n",
    "                    return True\n",
    "    return False\n",
    "\n",
    "def checkValidityOfNumber(input, iLine, jColumn, number):\n",
    "    for digitShift in range(len(number)):\n",
    "        if checkAroundDigit(input, iLine, jColumn+digitShift):\n",
    "            return True\n",
    "    return False\n",
    "        \n",
    "        \n",
    "totalValues = 0\n",
    "\n",
    "for iLine in range(len(input)):\n",
    "    jColumn = 0\n",
    "    while jColumn < len(input[0]):\n",
    "        if input[iLine][jColumn].isdigit():\n",
    "            number = findNumber(input, iLine, jColumn)\n",
    "            if checkValidityOfNumber(input, iLine, jColumn, number):\n",
    "                totalValues += int(number)\n",
    "            jColumn+=len(number)-1\n",
    "            \n",
    "            \n",
    "            # print(number)\n",
    "        jColumn+=1\n",
    "\n",
    "print(totalValues)\n"
   ]
  },
  {
   "cell_type": "code",
   "execution_count": 55,
   "metadata": {},
   "outputs": [
    {
     "name": "stdout",
     "output_type": "stream",
     "text": [
      "\u001b[32mThat's the right answer!  You are one gold star closer to restoring snow operations. [Continue to Part Two]\u001b[0m\n"
     ]
    }
   ],
   "source": [
    "puzzle.answer_a = totalValues"
   ]
  },
  {
   "cell_type": "markdown",
   "metadata": {},
   "source": [
    "#### Part b"
   ]
  },
  {
   "cell_type": "code",
   "execution_count": 112,
   "metadata": {},
   "outputs": [
    {
     "name": "stdout",
     "output_type": "stream",
     "text": [
      "['846', '624']\n",
      "['965', '922']\n",
      "['359', '405']\n",
      "['960', '332']\n",
      "['740', '38']\n",
      "['243', '156']\n",
      "['806', '634']\n",
      "['3', '481']\n",
      "['310']\n",
      "['900']\n",
      "['143', '775']\n",
      "['463', '273']\n",
      "['452', '313']\n",
      "['58', '593']\n",
      "['772', '392']\n",
      "['566', '196']\n",
      "['544', '20']\n",
      "['541', '132']\n",
      "['216', '747']\n",
      "['969', '638']\n",
      "['971', '716']\n",
      "['855', '245']\n",
      "['871', '20']\n",
      "['192', '91']\n",
      "['852', '156']\n",
      "['47', '55']\n",
      "['128', '68']\n",
      "['333', '415']\n",
      "['939', '858']\n",
      "['998', '520']\n",
      "['380', '761']\n",
      "['491', '379']\n",
      "['674']\n",
      "['118', '275']\n",
      "['924', '739']\n",
      "['992', '964']\n",
      "['240', '488']\n",
      "['648', '674']\n",
      "['465', '756']\n",
      "['888']\n",
      "['868', '583']\n",
      "['124', '851']\n",
      "['697', '827']\n",
      "['41', '304']\n",
      "['272', '80']\n",
      "['356']\n",
      "['312', '487']\n",
      "['961', '729']\n",
      "['736', '632']\n",
      "['118', '502']\n",
      "['753', '669']\n",
      "['889', '374']\n",
      "['272', '120']\n",
      "['698', '141']\n",
      "['776', '546']\n",
      "['804', '330']\n",
      "['730', '663']\n",
      "['446', '803']\n",
      "['375']\n",
      "['201', '167']\n",
      "['484', '170']\n",
      "['196', '587']\n",
      "['773', '23']\n",
      "['19', '455']\n",
      "['789', '959']\n",
      "['941', '287']\n",
      "['794', '647']\n",
      "['887', '146']\n",
      "['860', '496']\n",
      "['790', '161']\n",
      "['648']\n",
      "['325', '738']\n",
      "['252', '156']\n",
      "['534']\n",
      "['511', '420']\n",
      "['959', '166']\n",
      "['689', '935']\n",
      "['770', '210']\n",
      "['8', '3']\n",
      "['4']\n",
      "['606', '141']\n",
      "['193', '111']\n",
      "['542', '342']\n",
      "['860', '244']\n",
      "['269']\n",
      "['613', '245']\n",
      "['394', '51']\n",
      "['834', '875']\n",
      "['835', '882']\n",
      "['866', '489']\n",
      "['739', '177']\n",
      "['5', '557']\n",
      "['104', '290']\n",
      "['141', '634']\n",
      "['719', '787']\n",
      "['673', '739']\n",
      "['784', '575']\n",
      "['794', '309']\n",
      "['369', '989']\n",
      "['934', '643']\n",
      "['997', '836']\n",
      "['886', '519']\n",
      "['957', '628']\n",
      "['987']\n",
      "['935', '51']\n",
      "['957', '50']\n",
      "['765', '804']\n",
      "['696', '624']\n",
      "['736', '188']\n",
      "['219', '660']\n",
      "['477', '14']\n",
      "['203', '229']\n",
      "['636', '948']\n",
      "['310', '388']\n",
      "['675', '689']\n",
      "['57']\n",
      "['475', '398']\n",
      "['853', '848']\n",
      "['804', '867']\n",
      "['590']\n",
      "['530', '80']\n",
      "['160', '222']\n",
      "['735', '304']\n",
      "['649', '26']\n",
      "['116', '168']\n",
      "['418', '347']\n",
      "['83', '11']\n",
      "['527']\n",
      "['761', '935']\n",
      "['122', '891']\n",
      "['940', '510']\n",
      "['199', '647']\n",
      "['858']\n",
      "['448', '543']\n",
      "['994', '477']\n",
      "['776', '599']\n",
      "['305', '963']\n",
      "['947', '304']\n",
      "['890', '268']\n",
      "['361', '81']\n",
      "['492', '678']\n",
      "['31', '985']\n",
      "['842', '452']\n",
      "['787', '519']\n",
      "['307', '949']\n",
      "['827']\n",
      "['346', '148']\n",
      "['727', '647']\n",
      "['994', '438']\n",
      "['950', '41']\n",
      "['730', '614']\n",
      "['889', '940']\n",
      "['844', '129']\n",
      "['581', '879']\n",
      "['940', '462']\n",
      "['593']\n",
      "['500', '39']\n",
      "['776', '8']\n",
      "['341', '82']\n",
      "['784', '74']\n",
      "['226', '265']\n",
      "['252', '337']\n",
      "['438', '996']\n",
      "['944', '295']\n",
      "['247', '879']\n",
      "['271', '321']\n",
      "['578', '405']\n",
      "['155', '831']\n",
      "['615', '270']\n",
      "['311', '822']\n",
      "['517', '501']\n",
      "['471', '616']\n",
      "['128', '482']\n",
      "['562', '987']\n",
      "['861']\n",
      "['915', '35']\n",
      "['230', '38']\n",
      "['762']\n",
      "['967', '928']\n",
      "['976', '996']\n",
      "['530', '628']\n",
      "['84', '89']\n",
      "['315', '148']\n",
      "['838', '37']\n",
      "['32', '649']\n",
      "['177', '985']\n",
      "['13', '398']\n",
      "['723', '173']\n",
      "['894', '329']\n",
      "['878', '448']\n",
      "['251', '401']\n",
      "['21', '550']\n",
      "['568', '980']\n",
      "['591', '100']\n",
      "['803', '927']\n",
      "['250']\n",
      "['854', '718']\n",
      "['939', '599']\n",
      "['281', '236']\n",
      "['770', '50']\n",
      "['399', '817']\n",
      "['589', '184']\n",
      "['370']\n",
      "['871', '252']\n",
      "['568', '616']\n",
      "['586', '82']\n",
      "['957', '452']\n",
      "['509', '643']\n",
      "['633', '634']\n",
      "['838', '189']\n",
      "['315', '86']\n",
      "['104', '634']\n",
      "['430', '841']\n",
      "['628', '649']\n",
      "['717', '677']\n",
      "['751', '831']\n",
      "['81', '540']\n",
      "['373', '112']\n",
      "['322', '666']\n",
      "['636', '426']\n",
      "['11', '359']\n",
      "['980', '758']\n",
      "['209', '215']\n",
      "['407', '459']\n",
      "['773']\n",
      "['404', '392']\n",
      "['126']\n",
      "['440', '257']\n",
      "['330', '398']\n",
      "['759', '250']\n",
      "['970', '160']\n",
      "['524', '833']\n",
      "['646', '130']\n",
      "['672', '530']\n",
      "['683', '955']\n",
      "['254', '759']\n",
      "['950', '284']\n",
      "['112', '68']\n",
      "['535', '428']\n",
      "['192', '663']\n",
      "['306']\n",
      "['832', '277']\n",
      "['406', '567']\n",
      "['65', '861']\n",
      "['763', '604']\n",
      "['137', '542']\n",
      "['362', '902']\n",
      "['633', '752']\n",
      "['610']\n",
      "['18']\n",
      "['12', '834']\n",
      "['471', '654']\n",
      "['766', '754']\n",
      "['134', '666']\n",
      "['329', '296']\n",
      "['112', '154']\n",
      "['283', '917']\n",
      "['415']\n",
      "['946', '563']\n",
      "['308', '217']\n",
      "['84']\n",
      "['635', '996']\n",
      "['333', '555']\n",
      "['714', '522']\n",
      "['227', '79']\n",
      "['511', '682']\n",
      "['791', '522']\n",
      "['486', '516']\n",
      "['779', '57']\n",
      "['350', '853']\n",
      "['730', '480']\n",
      "['893', '423']\n",
      "['379', '756']\n",
      "['161', '123']\n",
      "['600', '590']\n",
      "['477', '58']\n",
      "['582']\n",
      "['996', '367']\n",
      "['916', '395']\n",
      "['755', '676']\n",
      "['723', '118']\n",
      "['43', '20']\n",
      "['725', '563']\n",
      "['999', '22']\n",
      "['575', '552']\n",
      "['886', '250']\n",
      "['497', '349']\n",
      "['317', '977']\n",
      "['36']\n",
      "['829', '152']\n",
      "['91']\n",
      "['544', '613']\n",
      "['139', '912']\n",
      "['134', '741']\n",
      "['81', '785']\n",
      "['381', '216']\n",
      "['252', '679']\n",
      "['808']\n",
      "['66', '956']\n",
      "['812', '41']\n",
      "['241', '599']\n",
      "['232', '184']\n",
      "['782', '635']\n",
      "['47', '806']\n",
      "['165', '687']\n",
      "['648', '387']\n",
      "['884', '663']\n",
      "['240', '571']\n",
      "['806', '365']\n",
      "['911', '941']\n",
      "['531', '424']\n",
      "['654', '250']\n",
      "['300', '357']\n",
      "['9', '38']\n",
      "['551', '443']\n",
      "['67', '156']\n",
      "['65', '304']\n",
      "['828', '592']\n",
      "['808', '16']\n",
      "['982']\n",
      "['532', '972']\n",
      "['831', '665']\n",
      "['176', '689']\n",
      "['198', '896']\n",
      "['462', '218']\n",
      "['512', '169']\n",
      "['39']\n",
      "['589', '775']\n",
      "['742', '673']\n",
      "['167']\n",
      "['227']\n",
      "['138', '636']\n",
      "['801']\n",
      "['48', '489']\n",
      "['47', '819']\n",
      "['369', '135']\n",
      "['496']\n",
      "['961', '815']\n",
      "['888', '551']\n",
      "['311', '519']\n",
      "['857', '827']\n",
      "['376', '10']\n",
      "['859', '121']\n",
      "['96']\n",
      "['629', '905']\n",
      "['762', '419']\n",
      "['262', '259']\n",
      "['847', '906']\n",
      "['311', '190']\n",
      "['599', '707']\n",
      "['908', '286']\n",
      "['127', '200']\n",
      "['465', '827']\n",
      "['324', '567']\n",
      "['886', '455']\n",
      "['37', '243']\n",
      "['427', '326']\n",
      "['349', '819']\n",
      "['185']\n",
      "['308', '107']\n",
      "['688', '756']\n",
      "['221', '543']\n",
      "['871', '519']\n",
      "['391', '99']\n",
      "['930', '184']\n",
      "['158']\n",
      "['984', '934']\n",
      "['741', '829']\n",
      "['794', '769']\n",
      "['976', '848']\n",
      "['339', '175']\n",
      "['381', '331']\n",
      "['48', '270']\n",
      "['911', '224']\n",
      "['52', '874']\n",
      "['537', '445']\n",
      "87287096\n"
     ]
    }
   ],
   "source": [
    "totalValues = 0\n",
    "\n",
    "def findDigitsAround(input, iLine, jColumn):\n",
    "    listOfNumbers = []\n",
    "    for iDelta in window:\n",
    "        for jDelta in window:\n",
    "            if -1 < iLine+iDelta < len(input) and -1 < jColumn+jDelta < len(input[0]):\n",
    "                if input[iLine+iDelta][jColumn+jDelta].isdigit():\n",
    "                    listOfNumbers.append(findNumber(input,iLine+iDelta,jColumn+jDelta))\n",
    "    return list(set(listOfNumbers))\n",
    "                    \n",
    "                    \n",
    "for iLine in range(len(input)):\n",
    "    jColumn = 0\n",
    "    while jColumn < len(input[0]):\n",
    "        if input[iLine][jColumn]==\"*\":\n",
    "            numbersAdjacent = findDigitsAround(input, iLine, jColumn)\n",
    "            print(numbersAdjacent)\n",
    "            if len(numbersAdjacent) == 2:\n",
    "                totalValues += int(numbersAdjacent[0])*int(numbersAdjacent[1])            \n",
    "            # print(number)\n",
    "        jColumn+=1\n",
    "\n",
    "print(totalValues)"
   ]
  },
  {
   "cell_type": "code",
   "execution_count": 113,
   "metadata": {},
   "outputs": [
    {
     "name": "stdout",
     "output_type": "stream",
     "text": [
      "\u001b[32mThat's the right answer!  You are one gold star closer to restoring snow operations.You have completed Day 3! You can [Shareon\n",
      "  Twitter\n",
      "Mastodon] this victory or [Return to Your Advent Calendar].\u001b[0m\n"
     ]
    }
   ],
   "source": [
    "puzzle.answer_b = totalValues"
   ]
  },
  {
   "cell_type": "markdown",
   "metadata": {},
   "source": [
    "### Day 2"
   ]
  },
  {
   "cell_type": "code",
   "execution_count": 3,
   "metadata": {},
   "outputs": [
    {
     "name": "stdout",
     "output_type": "stream",
     "text": [
      "[<span title=\"No, the Elf's name is not 'WOPR'. It's Joshua.\">would you like to play a game</span>]\n"
     ]
    }
   ],
   "source": [
    "puzzle=Puzzle(year=2023,day=2)\n",
    "print(puzzle.easter_eggs)\n"
   ]
  },
  {
   "cell_type": "markdown",
   "metadata": {},
   "source": [
    "#### Part a"
   ]
  },
  {
   "cell_type": "code",
   "execution_count": 20,
   "metadata": {},
   "outputs": [
    {
     "name": "stdout",
     "output_type": "stream",
     "text": [
      "68638\n"
     ]
    }
   ],
   "source": [
    "conditionPossible = {\"red\" : 12,\n",
    "                     \"green\" : 13,\n",
    "                     \"blue\" : 14\n",
    "                    }\n",
    "\n",
    "def checkValidity(game):\n",
    "    \n",
    "    samples = game.split(\";\")\n",
    "    minDice ={\"red\" : 0,\n",
    "              \"green\" : 0,\n",
    "              \"blue\" : 0\n",
    "                    }\n",
    "    for sample in samples:\n",
    "        colorSamples = sample.strip().split(\",\")\n",
    "        for colorSample in colorSamples:\n",
    "            [number, color] = colorSample.strip().split(\" \")\n",
    "            # part A\n",
    "            # if int(number) > conditionPossible[color]:\n",
    "            #     return False\n",
    "    \n",
    "            # part B\n",
    "            if int(number) > minDice[color]:\n",
    "                minDice[color] = int(number)\n",
    "            \n",
    "            \n",
    "    # return True\n",
    "    return minDice[\"red\"]*minDice[\"blue\"]*minDice[\"green\"]\n",
    "\n",
    "games = puzzle.input_data.strip().split(\"\\n\");\n",
    "\n",
    "sumOfIds = 0\n",
    "\n",
    "for game in games:\n",
    "\n",
    "    [name, game] = game.split(\":\")\n",
    "    # isValid = checkValidity(game.strip())\n",
    "    # if isValid:\n",
    "    #     sumOfIds += int(name.split(\" \")[1])\n",
    "    sumOfIds += checkValidity(game.strip())\n",
    "\n",
    "print(sumOfIds)\n",
    "\n",
    "    "
   ]
  },
  {
   "cell_type": "code",
   "execution_count": 21,
   "metadata": {},
   "outputs": [
    {
     "name": "stdout",
     "output_type": "stream",
     "text": [
      "\u001b[32mThat's the right answer!  You are one gold star closer to restoring snow operations.You have completed Day 2! You can [Shareon\n",
      "  Twitter\n",
      "Mastodon] this victory or [Return to Your Advent Calendar].\u001b[0m\n"
     ]
    }
   ],
   "source": [
    "puzzle.answer_b = sumOfIds\n",
    "#submit(answer=ans_a,day=2,part=\"a\",year=2021)"
   ]
  },
  {
   "cell_type": "markdown",
   "metadata": {},
   "source": [
    "#### Part b"
   ]
  },
  {
   "cell_type": "code",
   "execution_count": 148,
   "metadata": {},
   "outputs": [
    {
     "name": "stdout",
     "output_type": "stream",
     "text": [
      "620 µs ± 34.3 µs per loop (mean ± std. dev. of 7 runs, 1000 loops each)\n"
     ]
    }
   ],
   "source": [
    "class submarine_pro(submarine):\n",
    "\n",
    "    def __init__(self,depth=0,hor_pos=0,aim=0):\n",
    "        super().__init__(depth,hor_pos)\n",
    "        self.aim=aim\n",
    "    \n",
    "    def movement(self,direction:str, amount:int):\n",
    "        if direction==\"up\":\n",
    "            self.aim-=amount\n",
    "        elif direction==\"down\":\n",
    "            self.aim+=amount\n",
    "        elif direction==\"forward\":\n",
    "            self.hor_pos+=amount\n",
    "            self.depth+=self.aim*amount\n",
    "        else:\n",
    "            raise Exception(\"going in an unknown direction\")\n",
    "\n",
    "            \n",
    "            \n",
    "cousteau=submarine_pro()\n",
    "\n",
    "movements=puzzle.input_data.strip().split('\\n')\n",
    "\n",
    "for trajectory in movements:\n",
    "    direction,amount=trajectory.split(' ')\n",
    "    cousteau.movement(direction,int(amount))\n",
    "\n",
    "ans_b=cousteau.depth*cousteau.hor_pos"
   ]
  },
  {
   "cell_type": "code",
   "execution_count": 118,
   "metadata": {},
   "outputs": [],
   "source": [
    "#puzzle.answer_b = ans_b"
   ]
  },
  {
   "cell_type": "markdown",
   "metadata": {},
   "source": [
    "### Day 1"
   ]
  },
  {
   "cell_type": "code",
   "execution_count": 7,
   "metadata": {},
   "outputs": [
    {
     "name": "stdout",
     "output_type": "stream",
     "text": [
      "[<span title=\"My hope is that this abomination of a run-on sentence somehow conveys the chaos of being hastily loaded into a trebuchet.\">and</span>]\n"
     ]
    }
   ],
   "source": [
    "puzzle=Puzzle(year=2023,day=1)\n",
    "print(puzzle.easter_eggs)"
   ]
  },
  {
   "cell_type": "code",
   "execution_count": 9,
   "metadata": {},
   "outputs": [],
   "source": [
    "numbers = {\n",
    "    'one': 1,\n",
    "    'two': 2,\n",
    "    'three': 3,\n",
    "    'four': 4,\n",
    "    'five': 5,\n",
    "    'six': 6,\n",
    "    'seven': 7,\n",
    "    'eight': 8,\n",
    "    'nine': 9,\n",
    "    '1': 1,\n",
    "    '2': 2,\n",
    "    '3': 3,\n",
    "    '4': 4,\n",
    "    '5': 5,\n",
    "    '6': 6,\n",
    "    '7': 7,\n",
    "    '8': 8,\n",
    "    '9': 9,\n",
    "}\n",
    "\n",
    "def firstAndLastDigit(sequence):\n",
    "    listOfDigits = []\n",
    "    for char in sequence:\n",
    "        if char.isdigit():\n",
    "            listOfDigits.append(char)\n",
    "\n",
    "    return int(listOfDigits[0]+listOfDigits[-1])\n",
    "\n",
    "def firstAndLastDigitSpelledOut(sequence):\n",
    "    firstDigit=0\n",
    "    lastDigit=0\n",
    "    firstIndex = len(sequence)+1\n",
    "    lastIndex = -1\n",
    "\n",
    "    for pattern in numbers:\n",
    "        \n",
    "        firstOccurence = sequence.find(pattern)\n",
    "        if firstOccurence != -1 and firstOccurence < firstIndex:\n",
    "            firstDigit = numbers[pattern]\n",
    "            firstIndex = firstOccurence\n",
    "        \n",
    "        lastOccurence = sequence.rfind(pattern)\n",
    "        if lastOccurence != -1 and lastOccurence > lastIndex:\n",
    "            lastDigit = numbers[pattern]\n",
    "            lastIndex = lastOccurence\n",
    "    return 10*firstDigit+lastDigit \n",
    "\n",
    "\n",
    "instructions=[seq for seq in puzzle.input_data.strip().split('\\n')]\n",
    "\n",
    "digit = re.search(r\"\\d\", instructions[0])\n",
    "\n",
    "\n",
    "result = 0\n",
    "for instruction in instructions:\n",
    "    result += firstAndLastDigitSpelledOut(instruction)\n",
    "    \n"
   ]
  },
  {
   "cell_type": "code",
   "execution_count": null,
   "metadata": {},
   "outputs": [],
   "source": [
    "# puzzle.answer_a = result\n",
    "puzzle.answer_b = result"
   ]
  }
 ],
 "metadata": {
  "kernelspec": {
   "display_name": "Python 3 (ipykernel)",
   "language": "python",
   "name": "python3"
  },
  "language_info": {
   "codemirror_mode": {
    "name": "ipython",
    "version": 3
   },
   "file_extension": ".py",
   "mimetype": "text/x-python",
   "name": "python",
   "nbconvert_exporter": "python",
   "pygments_lexer": "ipython3",
   "version": "3.8.10"
  }
 },
 "nbformat": 4,
 "nbformat_minor": 4
}
